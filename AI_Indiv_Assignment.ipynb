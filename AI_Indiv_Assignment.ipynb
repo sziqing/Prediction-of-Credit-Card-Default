{
  "nbformat": 4,
  "nbformat_minor": 0,
  "metadata": {
    "colab": {
      "provenance": []
    },
    "kernelspec": {
      "name": "python3",
      "display_name": "Python 3"
    },
    "language_info": {
      "name": "python"
    }
  },
  "cells": [
    {
      "cell_type": "code",
      "execution_count": 1,
      "metadata": {
        "id": "cYlxsoiczW6i"
      },
      "outputs": [],
      "source": [
        "from sklearn.linear_model import LinearRegression\n",
        "from sklearn.model_selection import train_test_split\n",
        "from scipy import stats\n",
        "#from imblearn.over_sampling import SMOTE\n",
        "from sklearn.metrics import confusion_matrix, plot_roc_curve, plot_precision_recall_curve\n",
        "from sklearn import linear_model,tree,ensemble,neural_network\n",
        "from sklearn.model_selection import GridSearchCV\n",
        "#from sklearn.feature_selection import SelectKBest,f_regression\n",
        "from keras.models import Sequential\n",
        "from keras.layers import Dense, Dropout\n",
        "import pandas as pd\n",
        "import numpy as np\n",
        "import seaborn as sns\n",
        "import matplotlib.pyplot as plt"
      ]
    },
    {
      "cell_type": "code",
      "source": [
        "df = pd.read_csv(\"/content/drive/MyDrive/Colab Notebooks/Credit card default I.csv\")"
      ],
      "metadata": {
        "id": "JFm5NCO61bPq"
      },
      "execution_count": 2,
      "outputs": []
    },
    {
      "cell_type": "code",
      "source": [
        "df"
      ],
      "metadata": {
        "colab": {
          "base_uri": "https://localhost:8080/",
          "height": 540
        },
        "id": "hk1N3CmX8wJJ",
        "outputId": "24cc64fb-7565-4273-d23a-f8d1f6179bc0"
      },
      "execution_count": 3,
      "outputs": [
        {
          "output_type": "execute_result",
          "data": {
            "text/plain": [
              "          ID  LIMIT_BAL  SEX  EDUCATION  MARRIAGE  AGE  PAY_0  PAY_2  PAY_3  \\\n",
              "0          1      20000    1          2         1   24      2      2     -1   \n",
              "1          2     120000    2          2         2   26     -1      2      0   \n",
              "2          3      90000    2          2         2   34      0      0      0   \n",
              "3          4      50000    2          2         1   37      0      0      0   \n",
              "4          5      50000    1          2         1   57     -1      0     -1   \n",
              "...      ...        ...  ...        ...       ...  ...    ...    ...    ...   \n",
              "29995  29996     220000    1          3         1   39      0      0      0   \n",
              "29996  29997     150000    1          3         2   43     -1     -1     -1   \n",
              "29997  29998      30000    1          2         2   37      4      3      2   \n",
              "29998  29999      80000    1          3         1   41      1     -1      0   \n",
              "29999  30000      50000    1          2         1   46      0      0      0   \n",
              "\n",
              "       PAY_4  ...  BILL_AMT4  BILL_AMT5  BILL_AMT6  PAY_AMT1  PAY_AMT2  \\\n",
              "0         -1  ...          0          0          0         0       689   \n",
              "1          0  ...       3272       3455       3261         0      1000   \n",
              "2          0  ...      14331      14948      15549      1518      1500   \n",
              "3          0  ...      28314      28959      29547      2000      2019   \n",
              "4          0  ...      20940      19146      19131      2000     36681   \n",
              "...      ...  ...        ...        ...        ...       ...       ...   \n",
              "29995      0  ...      88004      31237      15980      8500     20000   \n",
              "29996     -1  ...       8979       5190          0      1837      3526   \n",
              "29997     -1  ...      20878      20582      19357         0         0   \n",
              "29998      0  ...      52774      11855      48944     85900      3409   \n",
              "29999      0  ...      36535      32428      15313      2078      1800   \n",
              "\n",
              "       PAY_AMT3  PAY_AMT4  PAY_AMT5  PAY_AMT6  default payment next month  \n",
              "0             0         0         0         0                           1  \n",
              "1          1000      1000         0      2000                           1  \n",
              "2          1000      1000      1000      5000                           0  \n",
              "3          1200      1100      1069      1000                           0  \n",
              "4         10000      9000       689       679                           0  \n",
              "...         ...       ...       ...       ...                         ...  \n",
              "29995      5003      3047      5000      1000                           0  \n",
              "29996      8998       129         0         0                           0  \n",
              "29997     22000      4200      2000      3100                           1  \n",
              "29998      1178      1926     52964      1804                           1  \n",
              "29999      1430      1000      1000      1000                           1  \n",
              "\n",
              "[30000 rows x 25 columns]"
            ],
            "text/html": [
              "\n",
              "  <div id=\"df-f608ad3f-505c-44ab-b387-fb7bc28237c9\">\n",
              "    <div class=\"colab-df-container\">\n",
              "      <div>\n",
              "<style scoped>\n",
              "    .dataframe tbody tr th:only-of-type {\n",
              "        vertical-align: middle;\n",
              "    }\n",
              "\n",
              "    .dataframe tbody tr th {\n",
              "        vertical-align: top;\n",
              "    }\n",
              "\n",
              "    .dataframe thead th {\n",
              "        text-align: right;\n",
              "    }\n",
              "</style>\n",
              "<table border=\"1\" class=\"dataframe\">\n",
              "  <thead>\n",
              "    <tr style=\"text-align: right;\">\n",
              "      <th></th>\n",
              "      <th>ID</th>\n",
              "      <th>LIMIT_BAL</th>\n",
              "      <th>SEX</th>\n",
              "      <th>EDUCATION</th>\n",
              "      <th>MARRIAGE</th>\n",
              "      <th>AGE</th>\n",
              "      <th>PAY_0</th>\n",
              "      <th>PAY_2</th>\n",
              "      <th>PAY_3</th>\n",
              "      <th>PAY_4</th>\n",
              "      <th>...</th>\n",
              "      <th>BILL_AMT4</th>\n",
              "      <th>BILL_AMT5</th>\n",
              "      <th>BILL_AMT6</th>\n",
              "      <th>PAY_AMT1</th>\n",
              "      <th>PAY_AMT2</th>\n",
              "      <th>PAY_AMT3</th>\n",
              "      <th>PAY_AMT4</th>\n",
              "      <th>PAY_AMT5</th>\n",
              "      <th>PAY_AMT6</th>\n",
              "      <th>default payment next month</th>\n",
              "    </tr>\n",
              "  </thead>\n",
              "  <tbody>\n",
              "    <tr>\n",
              "      <th>0</th>\n",
              "      <td>1</td>\n",
              "      <td>20000</td>\n",
              "      <td>1</td>\n",
              "      <td>2</td>\n",
              "      <td>1</td>\n",
              "      <td>24</td>\n",
              "      <td>2</td>\n",
              "      <td>2</td>\n",
              "      <td>-1</td>\n",
              "      <td>-1</td>\n",
              "      <td>...</td>\n",
              "      <td>0</td>\n",
              "      <td>0</td>\n",
              "      <td>0</td>\n",
              "      <td>0</td>\n",
              "      <td>689</td>\n",
              "      <td>0</td>\n",
              "      <td>0</td>\n",
              "      <td>0</td>\n",
              "      <td>0</td>\n",
              "      <td>1</td>\n",
              "    </tr>\n",
              "    <tr>\n",
              "      <th>1</th>\n",
              "      <td>2</td>\n",
              "      <td>120000</td>\n",
              "      <td>2</td>\n",
              "      <td>2</td>\n",
              "      <td>2</td>\n",
              "      <td>26</td>\n",
              "      <td>-1</td>\n",
              "      <td>2</td>\n",
              "      <td>0</td>\n",
              "      <td>0</td>\n",
              "      <td>...</td>\n",
              "      <td>3272</td>\n",
              "      <td>3455</td>\n",
              "      <td>3261</td>\n",
              "      <td>0</td>\n",
              "      <td>1000</td>\n",
              "      <td>1000</td>\n",
              "      <td>1000</td>\n",
              "      <td>0</td>\n",
              "      <td>2000</td>\n",
              "      <td>1</td>\n",
              "    </tr>\n",
              "    <tr>\n",
              "      <th>2</th>\n",
              "      <td>3</td>\n",
              "      <td>90000</td>\n",
              "      <td>2</td>\n",
              "      <td>2</td>\n",
              "      <td>2</td>\n",
              "      <td>34</td>\n",
              "      <td>0</td>\n",
              "      <td>0</td>\n",
              "      <td>0</td>\n",
              "      <td>0</td>\n",
              "      <td>...</td>\n",
              "      <td>14331</td>\n",
              "      <td>14948</td>\n",
              "      <td>15549</td>\n",
              "      <td>1518</td>\n",
              "      <td>1500</td>\n",
              "      <td>1000</td>\n",
              "      <td>1000</td>\n",
              "      <td>1000</td>\n",
              "      <td>5000</td>\n",
              "      <td>0</td>\n",
              "    </tr>\n",
              "    <tr>\n",
              "      <th>3</th>\n",
              "      <td>4</td>\n",
              "      <td>50000</td>\n",
              "      <td>2</td>\n",
              "      <td>2</td>\n",
              "      <td>1</td>\n",
              "      <td>37</td>\n",
              "      <td>0</td>\n",
              "      <td>0</td>\n",
              "      <td>0</td>\n",
              "      <td>0</td>\n",
              "      <td>...</td>\n",
              "      <td>28314</td>\n",
              "      <td>28959</td>\n",
              "      <td>29547</td>\n",
              "      <td>2000</td>\n",
              "      <td>2019</td>\n",
              "      <td>1200</td>\n",
              "      <td>1100</td>\n",
              "      <td>1069</td>\n",
              "      <td>1000</td>\n",
              "      <td>0</td>\n",
              "    </tr>\n",
              "    <tr>\n",
              "      <th>4</th>\n",
              "      <td>5</td>\n",
              "      <td>50000</td>\n",
              "      <td>1</td>\n",
              "      <td>2</td>\n",
              "      <td>1</td>\n",
              "      <td>57</td>\n",
              "      <td>-1</td>\n",
              "      <td>0</td>\n",
              "      <td>-1</td>\n",
              "      <td>0</td>\n",
              "      <td>...</td>\n",
              "      <td>20940</td>\n",
              "      <td>19146</td>\n",
              "      <td>19131</td>\n",
              "      <td>2000</td>\n",
              "      <td>36681</td>\n",
              "      <td>10000</td>\n",
              "      <td>9000</td>\n",
              "      <td>689</td>\n",
              "      <td>679</td>\n",
              "      <td>0</td>\n",
              "    </tr>\n",
              "    <tr>\n",
              "      <th>...</th>\n",
              "      <td>...</td>\n",
              "      <td>...</td>\n",
              "      <td>...</td>\n",
              "      <td>...</td>\n",
              "      <td>...</td>\n",
              "      <td>...</td>\n",
              "      <td>...</td>\n",
              "      <td>...</td>\n",
              "      <td>...</td>\n",
              "      <td>...</td>\n",
              "      <td>...</td>\n",
              "      <td>...</td>\n",
              "      <td>...</td>\n",
              "      <td>...</td>\n",
              "      <td>...</td>\n",
              "      <td>...</td>\n",
              "      <td>...</td>\n",
              "      <td>...</td>\n",
              "      <td>...</td>\n",
              "      <td>...</td>\n",
              "      <td>...</td>\n",
              "    </tr>\n",
              "    <tr>\n",
              "      <th>29995</th>\n",
              "      <td>29996</td>\n",
              "      <td>220000</td>\n",
              "      <td>1</td>\n",
              "      <td>3</td>\n",
              "      <td>1</td>\n",
              "      <td>39</td>\n",
              "      <td>0</td>\n",
              "      <td>0</td>\n",
              "      <td>0</td>\n",
              "      <td>0</td>\n",
              "      <td>...</td>\n",
              "      <td>88004</td>\n",
              "      <td>31237</td>\n",
              "      <td>15980</td>\n",
              "      <td>8500</td>\n",
              "      <td>20000</td>\n",
              "      <td>5003</td>\n",
              "      <td>3047</td>\n",
              "      <td>5000</td>\n",
              "      <td>1000</td>\n",
              "      <td>0</td>\n",
              "    </tr>\n",
              "    <tr>\n",
              "      <th>29996</th>\n",
              "      <td>29997</td>\n",
              "      <td>150000</td>\n",
              "      <td>1</td>\n",
              "      <td>3</td>\n",
              "      <td>2</td>\n",
              "      <td>43</td>\n",
              "      <td>-1</td>\n",
              "      <td>-1</td>\n",
              "      <td>-1</td>\n",
              "      <td>-1</td>\n",
              "      <td>...</td>\n",
              "      <td>8979</td>\n",
              "      <td>5190</td>\n",
              "      <td>0</td>\n",
              "      <td>1837</td>\n",
              "      <td>3526</td>\n",
              "      <td>8998</td>\n",
              "      <td>129</td>\n",
              "      <td>0</td>\n",
              "      <td>0</td>\n",
              "      <td>0</td>\n",
              "    </tr>\n",
              "    <tr>\n",
              "      <th>29997</th>\n",
              "      <td>29998</td>\n",
              "      <td>30000</td>\n",
              "      <td>1</td>\n",
              "      <td>2</td>\n",
              "      <td>2</td>\n",
              "      <td>37</td>\n",
              "      <td>4</td>\n",
              "      <td>3</td>\n",
              "      <td>2</td>\n",
              "      <td>-1</td>\n",
              "      <td>...</td>\n",
              "      <td>20878</td>\n",
              "      <td>20582</td>\n",
              "      <td>19357</td>\n",
              "      <td>0</td>\n",
              "      <td>0</td>\n",
              "      <td>22000</td>\n",
              "      <td>4200</td>\n",
              "      <td>2000</td>\n",
              "      <td>3100</td>\n",
              "      <td>1</td>\n",
              "    </tr>\n",
              "    <tr>\n",
              "      <th>29998</th>\n",
              "      <td>29999</td>\n",
              "      <td>80000</td>\n",
              "      <td>1</td>\n",
              "      <td>3</td>\n",
              "      <td>1</td>\n",
              "      <td>41</td>\n",
              "      <td>1</td>\n",
              "      <td>-1</td>\n",
              "      <td>0</td>\n",
              "      <td>0</td>\n",
              "      <td>...</td>\n",
              "      <td>52774</td>\n",
              "      <td>11855</td>\n",
              "      <td>48944</td>\n",
              "      <td>85900</td>\n",
              "      <td>3409</td>\n",
              "      <td>1178</td>\n",
              "      <td>1926</td>\n",
              "      <td>52964</td>\n",
              "      <td>1804</td>\n",
              "      <td>1</td>\n",
              "    </tr>\n",
              "    <tr>\n",
              "      <th>29999</th>\n",
              "      <td>30000</td>\n",
              "      <td>50000</td>\n",
              "      <td>1</td>\n",
              "      <td>2</td>\n",
              "      <td>1</td>\n",
              "      <td>46</td>\n",
              "      <td>0</td>\n",
              "      <td>0</td>\n",
              "      <td>0</td>\n",
              "      <td>0</td>\n",
              "      <td>...</td>\n",
              "      <td>36535</td>\n",
              "      <td>32428</td>\n",
              "      <td>15313</td>\n",
              "      <td>2078</td>\n",
              "      <td>1800</td>\n",
              "      <td>1430</td>\n",
              "      <td>1000</td>\n",
              "      <td>1000</td>\n",
              "      <td>1000</td>\n",
              "      <td>1</td>\n",
              "    </tr>\n",
              "  </tbody>\n",
              "</table>\n",
              "<p>30000 rows × 25 columns</p>\n",
              "</div>\n",
              "      <button class=\"colab-df-convert\" onclick=\"convertToInteractive('df-f608ad3f-505c-44ab-b387-fb7bc28237c9')\"\n",
              "              title=\"Convert this dataframe to an interactive table.\"\n",
              "              style=\"display:none;\">\n",
              "        \n",
              "  <svg xmlns=\"http://www.w3.org/2000/svg\" height=\"24px\"viewBox=\"0 0 24 24\"\n",
              "       width=\"24px\">\n",
              "    <path d=\"M0 0h24v24H0V0z\" fill=\"none\"/>\n",
              "    <path d=\"M18.56 5.44l.94 2.06.94-2.06 2.06-.94-2.06-.94-.94-2.06-.94 2.06-2.06.94zm-11 1L8.5 8.5l.94-2.06 2.06-.94-2.06-.94L8.5 2.5l-.94 2.06-2.06.94zm10 10l.94 2.06.94-2.06 2.06-.94-2.06-.94-.94-2.06-.94 2.06-2.06.94z\"/><path d=\"M17.41 7.96l-1.37-1.37c-.4-.4-.92-.59-1.43-.59-.52 0-1.04.2-1.43.59L10.3 9.45l-7.72 7.72c-.78.78-.78 2.05 0 2.83L4 21.41c.39.39.9.59 1.41.59.51 0 1.02-.2 1.41-.59l7.78-7.78 2.81-2.81c.8-.78.8-2.07 0-2.86zM5.41 20L4 18.59l7.72-7.72 1.47 1.35L5.41 20z\"/>\n",
              "  </svg>\n",
              "      </button>\n",
              "      \n",
              "  <style>\n",
              "    .colab-df-container {\n",
              "      display:flex;\n",
              "      flex-wrap:wrap;\n",
              "      gap: 12px;\n",
              "    }\n",
              "\n",
              "    .colab-df-convert {\n",
              "      background-color: #E8F0FE;\n",
              "      border: none;\n",
              "      border-radius: 50%;\n",
              "      cursor: pointer;\n",
              "      display: none;\n",
              "      fill: #1967D2;\n",
              "      height: 32px;\n",
              "      padding: 0 0 0 0;\n",
              "      width: 32px;\n",
              "    }\n",
              "\n",
              "    .colab-df-convert:hover {\n",
              "      background-color: #E2EBFA;\n",
              "      box-shadow: 0px 1px 2px rgba(60, 64, 67, 0.3), 0px 1px 3px 1px rgba(60, 64, 67, 0.15);\n",
              "      fill: #174EA6;\n",
              "    }\n",
              "\n",
              "    [theme=dark] .colab-df-convert {\n",
              "      background-color: #3B4455;\n",
              "      fill: #D2E3FC;\n",
              "    }\n",
              "\n",
              "    [theme=dark] .colab-df-convert:hover {\n",
              "      background-color: #434B5C;\n",
              "      box-shadow: 0px 1px 3px 1px rgba(0, 0, 0, 0.15);\n",
              "      filter: drop-shadow(0px 1px 2px rgba(0, 0, 0, 0.3));\n",
              "      fill: #FFFFFF;\n",
              "    }\n",
              "  </style>\n",
              "\n",
              "      <script>\n",
              "        const buttonEl =\n",
              "          document.querySelector('#df-f608ad3f-505c-44ab-b387-fb7bc28237c9 button.colab-df-convert');\n",
              "        buttonEl.style.display =\n",
              "          google.colab.kernel.accessAllowed ? 'block' : 'none';\n",
              "\n",
              "        async function convertToInteractive(key) {\n",
              "          const element = document.querySelector('#df-f608ad3f-505c-44ab-b387-fb7bc28237c9');\n",
              "          const dataTable =\n",
              "            await google.colab.kernel.invokeFunction('convertToInteractive',\n",
              "                                                     [key], {});\n",
              "          if (!dataTable) return;\n",
              "\n",
              "          const docLinkHtml = 'Like what you see? Visit the ' +\n",
              "            '<a target=\"_blank\" href=https://colab.research.google.com/notebooks/data_table.ipynb>data table notebook</a>'\n",
              "            + ' to learn more about interactive tables.';\n",
              "          element.innerHTML = '';\n",
              "          dataTable['output_type'] = 'display_data';\n",
              "          await google.colab.output.renderOutput(dataTable, element);\n",
              "          const docLink = document.createElement('div');\n",
              "          docLink.innerHTML = docLinkHtml;\n",
              "          element.appendChild(docLink);\n",
              "        }\n",
              "      </script>\n",
              "    </div>\n",
              "  </div>\n",
              "  "
            ]
          },
          "metadata": {},
          "execution_count": 3
        }
      ]
    },
    {
      "cell_type": "code",
      "source": [
        "#Cleaning\n",
        "\n",
        "#ID Column not needed as it is just an index\n",
        "df = df.drop(columns = \"ID\")"
      ],
      "metadata": {
        "id": "Lq5ClmbFGKKS"
      },
      "execution_count": 4,
      "outputs": []
    },
    {
      "cell_type": "code",
      "source": [
        "#Rename column for simplicity\n",
        "df = df.rename(columns = {\"default payment next month\":\"default\"})"
      ],
      "metadata": {
        "id": "KhdPc4fvNEqq"
      },
      "execution_count": 5,
      "outputs": []
    },
    {
      "cell_type": "code",
      "source": [
        "for col in df.columns:\n",
        "    # Count number of occurrences of each value in the column\n",
        "    value_counts = df[col].value_counts()\n",
        "    # Print results\n",
        "    print(f\"{col}:\")\n",
        "    print(value_counts)\n",
        "    print()"
      ],
      "metadata": {
        "colab": {
          "base_uri": "https://localhost:8080/"
        },
        "id": "TG5ic7FFNGO5",
        "outputId": "8a2dd812-fc35-491c-fabf-98523c65d402"
      },
      "execution_count": 6,
      "outputs": [
        {
          "output_type": "stream",
          "name": "stdout",
          "text": [
            "LIMIT_BAL:\n",
            "50000      3365\n",
            "20000      1976\n",
            "30000      1610\n",
            "80000      1567\n",
            "200000     1528\n",
            "           ... \n",
            "730000        2\n",
            "1000000       1\n",
            "327680        1\n",
            "760000        1\n",
            "690000        1\n",
            "Name: LIMIT_BAL, Length: 81, dtype: int64\n",
            "\n",
            "SEX:\n",
            "2    18111\n",
            "1    11889\n",
            "Name: SEX, dtype: int64\n",
            "\n",
            "EDUCATION:\n",
            "2    14030\n",
            "1    10585\n",
            "3     4917\n",
            "5      280\n",
            "4      123\n",
            "6       51\n",
            "0       14\n",
            "Name: EDUCATION, dtype: int64\n",
            "\n",
            "MARRIAGE:\n",
            "2    15964\n",
            "1    13659\n",
            "3      323\n",
            "0       54\n",
            "Name: MARRIAGE, dtype: int64\n",
            "\n",
            "AGE:\n",
            "29    1605\n",
            "27    1477\n",
            "28    1409\n",
            "30    1395\n",
            "26    1256\n",
            "31    1217\n",
            "25    1186\n",
            "34    1162\n",
            "32    1158\n",
            "33    1146\n",
            "24    1127\n",
            "35    1113\n",
            "36    1108\n",
            "37    1041\n",
            "39     954\n",
            "38     944\n",
            "23     931\n",
            "40     870\n",
            "41     824\n",
            "42     794\n",
            "44     700\n",
            "43     670\n",
            "45     617\n",
            "46     570\n",
            "22     560\n",
            "47     501\n",
            "48     466\n",
            "49     452\n",
            "50     411\n",
            "51     340\n",
            "53     325\n",
            "52     304\n",
            "54     247\n",
            "55     209\n",
            "56     178\n",
            "58     122\n",
            "57     122\n",
            "59      83\n",
            "60      67\n",
            "21      67\n",
            "61      56\n",
            "62      44\n",
            "63      31\n",
            "64      31\n",
            "66      25\n",
            "65      24\n",
            "67      16\n",
            "69      15\n",
            "70      10\n",
            "68       5\n",
            "73       4\n",
            "72       3\n",
            "75       3\n",
            "71       3\n",
            "79       1\n",
            "74       1\n",
            "Name: AGE, dtype: int64\n",
            "\n",
            "PAY_0:\n",
            " 0    14737\n",
            "-1     5686\n",
            " 1     3688\n",
            "-2     2759\n",
            " 2     2667\n",
            " 3      322\n",
            " 4       76\n",
            " 5       26\n",
            " 8       19\n",
            " 6       11\n",
            " 7        9\n",
            "Name: PAY_0, dtype: int64\n",
            "\n",
            "PAY_2:\n",
            " 0    15730\n",
            "-1     6050\n",
            " 2     3927\n",
            "-2     3782\n",
            " 3      326\n",
            " 4       99\n",
            " 1       28\n",
            " 5       25\n",
            " 7       20\n",
            " 6       12\n",
            " 8        1\n",
            "Name: PAY_2, dtype: int64\n",
            "\n",
            "PAY_3:\n",
            " 0    15764\n",
            "-1     5938\n",
            "-2     4085\n",
            " 2     3819\n",
            " 3      240\n",
            " 4       76\n",
            " 7       27\n",
            " 6       23\n",
            " 5       21\n",
            " 1        4\n",
            " 8        3\n",
            "Name: PAY_3, dtype: int64\n",
            "\n",
            "PAY_4:\n",
            " 0    16455\n",
            "-1     5687\n",
            "-2     4348\n",
            " 2     3159\n",
            " 3      180\n",
            " 4       69\n",
            " 7       58\n",
            " 5       35\n",
            " 6        5\n",
            " 1        2\n",
            " 8        2\n",
            "Name: PAY_4, dtype: int64\n",
            "\n",
            "PAY_5:\n",
            " 0    16947\n",
            "-1     5539\n",
            "-2     4546\n",
            " 2     2626\n",
            " 3      178\n",
            " 4       84\n",
            " 7       58\n",
            " 5       17\n",
            " 6        4\n",
            " 8        1\n",
            "Name: PAY_5, dtype: int64\n",
            "\n",
            "PAY_6:\n",
            " 0    16286\n",
            "-1     5740\n",
            "-2     4895\n",
            " 2     2766\n",
            " 3      184\n",
            " 4       49\n",
            " 7       46\n",
            " 6       19\n",
            " 5       13\n",
            " 8        2\n",
            "Name: PAY_6, dtype: int64\n",
            "\n",
            "BILL_AMT1:\n",
            "0         2008\n",
            "390        244\n",
            "780         76\n",
            "326         72\n",
            "316         63\n",
            "          ... \n",
            "11636        1\n",
            "146034       1\n",
            "20817        1\n",
            "1351         1\n",
            "47929        1\n",
            "Name: BILL_AMT1, Length: 22723, dtype: int64\n",
            "\n",
            "BILL_AMT2:\n",
            "0        2506\n",
            "390       231\n",
            "326        75\n",
            "780        75\n",
            "316        72\n",
            "         ... \n",
            "26357       1\n",
            "85195       1\n",
            "6889        1\n",
            "11004       1\n",
            "48905       1\n",
            "Name: BILL_AMT2, Length: 22346, dtype: int64\n",
            "\n",
            "BILL_AMT3:\n",
            "0         2870\n",
            "390        275\n",
            "780         74\n",
            "326         63\n",
            "316         62\n",
            "          ... \n",
            "19580        1\n",
            "45129        1\n",
            "227807       1\n",
            "39330        1\n",
            "49764        1\n",
            "Name: BILL_AMT3, Length: 22026, dtype: int64\n",
            "\n",
            "BILL_AMT4:\n",
            "0         3195\n",
            "390        246\n",
            "780        101\n",
            "316         68\n",
            "326         62\n",
            "          ... \n",
            "97189        1\n",
            "118839       1\n",
            "23567        1\n",
            "18377        1\n",
            "36535        1\n",
            "Name: BILL_AMT4, Length: 21548, dtype: int64\n",
            "\n",
            "BILL_AMT5:\n",
            "0        3506\n",
            "390       235\n",
            "780        94\n",
            "316        79\n",
            "326        62\n",
            "         ... \n",
            "19341       1\n",
            "66726       1\n",
            "80682       1\n",
            "28508       1\n",
            "32428       1\n",
            "Name: BILL_AMT5, Length: 21010, dtype: int64\n",
            "\n",
            "BILL_AMT6:\n",
            "0         4020\n",
            "390        207\n",
            "780         86\n",
            "150         78\n",
            "316         77\n",
            "          ... \n",
            "26852        1\n",
            "108660       1\n",
            "480          1\n",
            "15298        1\n",
            "15313        1\n",
            "Name: BILL_AMT6, Length: 20604, dtype: int64\n",
            "\n",
            "PAY_AMT1:\n",
            "0        5249\n",
            "2000     1363\n",
            "3000      891\n",
            "5000      698\n",
            "1500      507\n",
            "         ... \n",
            "3391        1\n",
            "7785        1\n",
            "66022       1\n",
            "10121       1\n",
            "85900       1\n",
            "Name: PAY_AMT1, Length: 7943, dtype: int64\n",
            "\n",
            "PAY_AMT2:\n",
            "0        5396\n",
            "2000     1290\n",
            "3000      857\n",
            "5000      717\n",
            "1000      594\n",
            "         ... \n",
            "7866        1\n",
            "6206        1\n",
            "10529       1\n",
            "21300       1\n",
            "3526        1\n",
            "Name: PAY_AMT2, Length: 7899, dtype: int64\n",
            "\n",
            "PAY_AMT3:\n",
            "0        5968\n",
            "2000     1285\n",
            "1000     1103\n",
            "3000      870\n",
            "5000      721\n",
            "         ... \n",
            "5102        1\n",
            "5368        1\n",
            "28138       1\n",
            "549         1\n",
            "25128       1\n",
            "Name: PAY_AMT3, Length: 7518, dtype: int64\n",
            "\n",
            "PAY_AMT4:\n",
            "0        6408\n",
            "1000     1394\n",
            "2000     1214\n",
            "3000      887\n",
            "5000      810\n",
            "         ... \n",
            "18916       1\n",
            "3468        1\n",
            "11476       1\n",
            "4363        1\n",
            "8049        1\n",
            "Name: PAY_AMT4, Length: 6937, dtype: int64\n",
            "\n",
            "PAY_AMT5:\n",
            "0        6703\n",
            "1000     1340\n",
            "2000     1323\n",
            "3000      947\n",
            "5000      814\n",
            "         ... \n",
            "9111        1\n",
            "16496       1\n",
            "4819        1\n",
            "10078       1\n",
            "52964       1\n",
            "Name: PAY_AMT5, Length: 6897, dtype: int64\n",
            "\n",
            "PAY_AMT6:\n",
            "0        7173\n",
            "1000     1299\n",
            "2000     1295\n",
            "3000      914\n",
            "5000      808\n",
            "         ... \n",
            "7329        1\n",
            "6862        1\n",
            "6525        1\n",
            "11894       1\n",
            "16080       1\n",
            "Name: PAY_AMT6, Length: 6939, dtype: int64\n",
            "\n",
            "default:\n",
            "0    23364\n",
            "1     6636\n",
            "Name: default, dtype: int64\n",
            "\n"
          ]
        }
      ]
    },
    {
      "cell_type": "code",
      "source": [
        "#In the data dictionary, -1 means that the loan is paid duly. Logically, in my opinion, 0 means that the loan is paid duly as well.\n",
        "#Hence, all the 0 are changed to -1.\n",
        "df.loc[:,['PAY_0', 'PAY_2', 'PAY_3', 'PAY_4', 'PAY_5', 'PAY_6']] = df.loc[:,['PAY_0', 'PAY_2', 'PAY_3', 'PAY_4', 'PAY_5', 'PAY_6']].replace(0,-1)"
      ],
      "metadata": {
        "id": "UO5nOSEwS_3t"
      },
      "execution_count": 7,
      "outputs": []
    },
    {
      "cell_type": "code",
      "source": [
        "#In my opinion, -2 could mean that the loan is paid 2 months in advance, which means that the loans are paid duly. \n",
        "#Hence, all the -2 are changed to -1.\n",
        "df.loc[:,['PAY_0', 'PAY_2', 'PAY_3', 'PAY_4', 'PAY_5', 'PAY_6']] = df.loc[:,['PAY_0', 'PAY_2', 'PAY_3', 'PAY_4', 'PAY_5', 'PAY_6']].replace(-2,-1)"
      ],
      "metadata": {
        "id": "BIhsTqKYTuCO"
      },
      "execution_count": 8,
      "outputs": []
    },
    {
      "cell_type": "code",
      "source": [
        "#In the data dictionary, there are no values such as 0, 5, 6. Also, 4 is equivalent to others.\n",
        "#Hence, I will classify 0, 5, 6 as others.\n",
        "df.loc[:,['EDUCATION']] = df.loc[:,['EDUCATION']].replace(0,4)\n",
        "df.loc[:,['EDUCATION']] = df.loc[:,['EDUCATION']].replace(5,4)\n",
        "df.loc[:,['EDUCATION']] = df.loc[:,['EDUCATION']].replace(6,4)"
      ],
      "metadata": {
        "id": "O38DuLyxbEqw"
      },
      "execution_count": 9,
      "outputs": []
    },
    {
      "cell_type": "code",
      "source": [
        "#In the data dictionary, there are no values such as 0. Also, 3 is equivalent to others.\n",
        "#Hence, I will classify 0 as others.\n",
        "df.loc[:,['MARRIAGE']] = df.loc[:,['MARRIAGE']].replace(0,3)"
      ],
      "metadata": {
        "id": "CwIeBKd6bv5w"
      },
      "execution_count": 10,
      "outputs": []
    },
    {
      "cell_type": "code",
      "source": [
        "check_list = ['LIMIT_BAL', 'AGE', 'BILL_AMT1', 'BILL_AMT2',\n",
        "       'BILL_AMT3', 'BILL_AMT4', 'BILL_AMT5', 'BILL_AMT6', 'PAY_AMT1',\n",
        "       'PAY_AMT2', 'PAY_AMT3', 'PAY_AMT4', 'PAY_AMT5', 'PAY_AMT6']\n",
        "\n",
        "for col in check_list:\n",
        "    #Check the summary of values from each column\n",
        "    summary = df[col].describe()\n",
        "    #Print results\n",
        "    print(f\"{col}:\")\n",
        "    print(summary)\n",
        "    print()"
      ],
      "metadata": {
        "colab": {
          "base_uri": "https://localhost:8080/"
        },
        "id": "gcA3eURhNf7X",
        "outputId": "acf22d2f-d921-4336-c8ac-61eb8c6a39a7"
      },
      "execution_count": 11,
      "outputs": [
        {
          "output_type": "stream",
          "name": "stdout",
          "text": [
            "LIMIT_BAL:\n",
            "count      30000.000000\n",
            "mean      167484.322667\n",
            "std       129747.661567\n",
            "min        10000.000000\n",
            "25%        50000.000000\n",
            "50%       140000.000000\n",
            "75%       240000.000000\n",
            "max      1000000.000000\n",
            "Name: LIMIT_BAL, dtype: float64\n",
            "\n",
            "AGE:\n",
            "count    30000.000000\n",
            "mean        35.485500\n",
            "std          9.217904\n",
            "min         21.000000\n",
            "25%         28.000000\n",
            "50%         34.000000\n",
            "75%         41.000000\n",
            "max         79.000000\n",
            "Name: AGE, dtype: float64\n",
            "\n",
            "BILL_AMT1:\n",
            "count     30000.000000\n",
            "mean      51223.330900\n",
            "std       73635.860576\n",
            "min     -165580.000000\n",
            "25%        3558.750000\n",
            "50%       22381.500000\n",
            "75%       67091.000000\n",
            "max      964511.000000\n",
            "Name: BILL_AMT1, dtype: float64\n",
            "\n",
            "BILL_AMT2:\n",
            "count     30000.000000\n",
            "mean      49179.075167\n",
            "std       71173.768783\n",
            "min      -69777.000000\n",
            "25%        2984.750000\n",
            "50%       21200.000000\n",
            "75%       64006.250000\n",
            "max      983931.000000\n",
            "Name: BILL_AMT2, dtype: float64\n",
            "\n",
            "BILL_AMT3:\n",
            "count    3.000000e+04\n",
            "mean     4.701315e+04\n",
            "std      6.934939e+04\n",
            "min     -1.572640e+05\n",
            "25%      2.666250e+03\n",
            "50%      2.008850e+04\n",
            "75%      6.016475e+04\n",
            "max      1.664089e+06\n",
            "Name: BILL_AMT3, dtype: float64\n",
            "\n",
            "BILL_AMT4:\n",
            "count     30000.000000\n",
            "mean      43262.948967\n",
            "std       64332.856134\n",
            "min     -170000.000000\n",
            "25%        2326.750000\n",
            "50%       19052.000000\n",
            "75%       54506.000000\n",
            "max      891586.000000\n",
            "Name: BILL_AMT4, dtype: float64\n",
            "\n",
            "BILL_AMT5:\n",
            "count     30000.000000\n",
            "mean      40311.400967\n",
            "std       60797.155770\n",
            "min      -81334.000000\n",
            "25%        1763.000000\n",
            "50%       18104.500000\n",
            "75%       50190.500000\n",
            "max      927171.000000\n",
            "Name: BILL_AMT5, dtype: float64\n",
            "\n",
            "BILL_AMT6:\n",
            "count     30000.000000\n",
            "mean      38871.760400\n",
            "std       59554.107537\n",
            "min     -339603.000000\n",
            "25%        1256.000000\n",
            "50%       17071.000000\n",
            "75%       49198.250000\n",
            "max      961664.000000\n",
            "Name: BILL_AMT6, dtype: float64\n",
            "\n",
            "PAY_AMT1:\n",
            "count     30000.000000\n",
            "mean       5663.580500\n",
            "std       16563.280354\n",
            "min           0.000000\n",
            "25%        1000.000000\n",
            "50%        2100.000000\n",
            "75%        5006.000000\n",
            "max      873552.000000\n",
            "Name: PAY_AMT1, dtype: float64\n",
            "\n",
            "PAY_AMT2:\n",
            "count    3.000000e+04\n",
            "mean     5.921163e+03\n",
            "std      2.304087e+04\n",
            "min      0.000000e+00\n",
            "25%      8.330000e+02\n",
            "50%      2.009000e+03\n",
            "75%      5.000000e+03\n",
            "max      1.684259e+06\n",
            "Name: PAY_AMT2, dtype: float64\n",
            "\n",
            "PAY_AMT3:\n",
            "count     30000.00000\n",
            "mean       5225.68150\n",
            "std       17606.96147\n",
            "min           0.00000\n",
            "25%         390.00000\n",
            "50%        1800.00000\n",
            "75%        4505.00000\n",
            "max      896040.00000\n",
            "Name: PAY_AMT3, dtype: float64\n",
            "\n",
            "PAY_AMT4:\n",
            "count     30000.000000\n",
            "mean       4826.076867\n",
            "std       15666.159744\n",
            "min           0.000000\n",
            "25%         296.000000\n",
            "50%        1500.000000\n",
            "75%        4013.250000\n",
            "max      621000.000000\n",
            "Name: PAY_AMT4, dtype: float64\n",
            "\n",
            "PAY_AMT5:\n",
            "count     30000.000000\n",
            "mean       4799.387633\n",
            "std       15278.305679\n",
            "min           0.000000\n",
            "25%         252.500000\n",
            "50%        1500.000000\n",
            "75%        4031.500000\n",
            "max      426529.000000\n",
            "Name: PAY_AMT5, dtype: float64\n",
            "\n",
            "PAY_AMT6:\n",
            "count     30000.000000\n",
            "mean       5215.502567\n",
            "std       17777.465775\n",
            "min           0.000000\n",
            "25%         117.750000\n",
            "50%        1500.000000\n",
            "75%        4000.000000\n",
            "max      528666.000000\n",
            "Name: PAY_AMT6, dtype: float64\n",
            "\n"
          ]
        }
      ]
    },
    {
      "cell_type": "code",
      "source": [
        "#With this, cleaning is finished.\n",
        "#The following columns: 'BILL_AMT1', 'BILL_AMT2', 'BILL_AMT3', 'BILL_AMT4', 'BILL_AMT5', 'BILL_AMT6' have negative values. However, this is possible\n",
        "#as a negative balance could indicate that the bill was overpaid and that the customer may be eligible for a refund."
      ],
      "metadata": {
        "id": "bON6CqsWWOLJ"
      },
      "execution_count": 12,
      "outputs": []
    },
    {
      "cell_type": "code",
      "source": [
        "df"
      ],
      "metadata": {
        "colab": {
          "base_uri": "https://localhost:8080/",
          "height": 488
        },
        "id": "66DtXnUnEP3a",
        "outputId": "95a9c8c2-9fb8-4367-8567-ad2b2823face"
      },
      "execution_count": 13,
      "outputs": [
        {
          "output_type": "execute_result",
          "data": {
            "text/plain": [
              "       LIMIT_BAL  SEX  EDUCATION  MARRIAGE  AGE  PAY_0  PAY_2  PAY_3  PAY_4  \\\n",
              "0          20000    1          2         1   24      2      2     -1     -1   \n",
              "1         120000    2          2         2   26     -1      2     -1     -1   \n",
              "2          90000    2          2         2   34     -1     -1     -1     -1   \n",
              "3          50000    2          2         1   37     -1     -1     -1     -1   \n",
              "4          50000    1          2         1   57     -1     -1     -1     -1   \n",
              "...          ...  ...        ...       ...  ...    ...    ...    ...    ...   \n",
              "29995     220000    1          3         1   39     -1     -1     -1     -1   \n",
              "29996     150000    1          3         2   43     -1     -1     -1     -1   \n",
              "29997      30000    1          2         2   37      4      3      2     -1   \n",
              "29998      80000    1          3         1   41      1     -1     -1     -1   \n",
              "29999      50000    1          2         1   46     -1     -1     -1     -1   \n",
              "\n",
              "       PAY_5  ...  BILL_AMT4  BILL_AMT5  BILL_AMT6  PAY_AMT1  PAY_AMT2  \\\n",
              "0         -1  ...          0          0          0         0       689   \n",
              "1         -1  ...       3272       3455       3261         0      1000   \n",
              "2         -1  ...      14331      14948      15549      1518      1500   \n",
              "3         -1  ...      28314      28959      29547      2000      2019   \n",
              "4         -1  ...      20940      19146      19131      2000     36681   \n",
              "...      ...  ...        ...        ...        ...       ...       ...   \n",
              "29995     -1  ...      88004      31237      15980      8500     20000   \n",
              "29996     -1  ...       8979       5190          0      1837      3526   \n",
              "29997     -1  ...      20878      20582      19357         0         0   \n",
              "29998     -1  ...      52774      11855      48944     85900      3409   \n",
              "29999     -1  ...      36535      32428      15313      2078      1800   \n",
              "\n",
              "       PAY_AMT3  PAY_AMT4  PAY_AMT5  PAY_AMT6  default  \n",
              "0             0         0         0         0        1  \n",
              "1          1000      1000         0      2000        1  \n",
              "2          1000      1000      1000      5000        0  \n",
              "3          1200      1100      1069      1000        0  \n",
              "4         10000      9000       689       679        0  \n",
              "...         ...       ...       ...       ...      ...  \n",
              "29995      5003      3047      5000      1000        0  \n",
              "29996      8998       129         0         0        0  \n",
              "29997     22000      4200      2000      3100        1  \n",
              "29998      1178      1926     52964      1804        1  \n",
              "29999      1430      1000      1000      1000        1  \n",
              "\n",
              "[30000 rows x 24 columns]"
            ],
            "text/html": [
              "\n",
              "  <div id=\"df-6e470b88-1da6-4641-9550-5b955306b9aa\">\n",
              "    <div class=\"colab-df-container\">\n",
              "      <div>\n",
              "<style scoped>\n",
              "    .dataframe tbody tr th:only-of-type {\n",
              "        vertical-align: middle;\n",
              "    }\n",
              "\n",
              "    .dataframe tbody tr th {\n",
              "        vertical-align: top;\n",
              "    }\n",
              "\n",
              "    .dataframe thead th {\n",
              "        text-align: right;\n",
              "    }\n",
              "</style>\n",
              "<table border=\"1\" class=\"dataframe\">\n",
              "  <thead>\n",
              "    <tr style=\"text-align: right;\">\n",
              "      <th></th>\n",
              "      <th>LIMIT_BAL</th>\n",
              "      <th>SEX</th>\n",
              "      <th>EDUCATION</th>\n",
              "      <th>MARRIAGE</th>\n",
              "      <th>AGE</th>\n",
              "      <th>PAY_0</th>\n",
              "      <th>PAY_2</th>\n",
              "      <th>PAY_3</th>\n",
              "      <th>PAY_4</th>\n",
              "      <th>PAY_5</th>\n",
              "      <th>...</th>\n",
              "      <th>BILL_AMT4</th>\n",
              "      <th>BILL_AMT5</th>\n",
              "      <th>BILL_AMT6</th>\n",
              "      <th>PAY_AMT1</th>\n",
              "      <th>PAY_AMT2</th>\n",
              "      <th>PAY_AMT3</th>\n",
              "      <th>PAY_AMT4</th>\n",
              "      <th>PAY_AMT5</th>\n",
              "      <th>PAY_AMT6</th>\n",
              "      <th>default</th>\n",
              "    </tr>\n",
              "  </thead>\n",
              "  <tbody>\n",
              "    <tr>\n",
              "      <th>0</th>\n",
              "      <td>20000</td>\n",
              "      <td>1</td>\n",
              "      <td>2</td>\n",
              "      <td>1</td>\n",
              "      <td>24</td>\n",
              "      <td>2</td>\n",
              "      <td>2</td>\n",
              "      <td>-1</td>\n",
              "      <td>-1</td>\n",
              "      <td>-1</td>\n",
              "      <td>...</td>\n",
              "      <td>0</td>\n",
              "      <td>0</td>\n",
              "      <td>0</td>\n",
              "      <td>0</td>\n",
              "      <td>689</td>\n",
              "      <td>0</td>\n",
              "      <td>0</td>\n",
              "      <td>0</td>\n",
              "      <td>0</td>\n",
              "      <td>1</td>\n",
              "    </tr>\n",
              "    <tr>\n",
              "      <th>1</th>\n",
              "      <td>120000</td>\n",
              "      <td>2</td>\n",
              "      <td>2</td>\n",
              "      <td>2</td>\n",
              "      <td>26</td>\n",
              "      <td>-1</td>\n",
              "      <td>2</td>\n",
              "      <td>-1</td>\n",
              "      <td>-1</td>\n",
              "      <td>-1</td>\n",
              "      <td>...</td>\n",
              "      <td>3272</td>\n",
              "      <td>3455</td>\n",
              "      <td>3261</td>\n",
              "      <td>0</td>\n",
              "      <td>1000</td>\n",
              "      <td>1000</td>\n",
              "      <td>1000</td>\n",
              "      <td>0</td>\n",
              "      <td>2000</td>\n",
              "      <td>1</td>\n",
              "    </tr>\n",
              "    <tr>\n",
              "      <th>2</th>\n",
              "      <td>90000</td>\n",
              "      <td>2</td>\n",
              "      <td>2</td>\n",
              "      <td>2</td>\n",
              "      <td>34</td>\n",
              "      <td>-1</td>\n",
              "      <td>-1</td>\n",
              "      <td>-1</td>\n",
              "      <td>-1</td>\n",
              "      <td>-1</td>\n",
              "      <td>...</td>\n",
              "      <td>14331</td>\n",
              "      <td>14948</td>\n",
              "      <td>15549</td>\n",
              "      <td>1518</td>\n",
              "      <td>1500</td>\n",
              "      <td>1000</td>\n",
              "      <td>1000</td>\n",
              "      <td>1000</td>\n",
              "      <td>5000</td>\n",
              "      <td>0</td>\n",
              "    </tr>\n",
              "    <tr>\n",
              "      <th>3</th>\n",
              "      <td>50000</td>\n",
              "      <td>2</td>\n",
              "      <td>2</td>\n",
              "      <td>1</td>\n",
              "      <td>37</td>\n",
              "      <td>-1</td>\n",
              "      <td>-1</td>\n",
              "      <td>-1</td>\n",
              "      <td>-1</td>\n",
              "      <td>-1</td>\n",
              "      <td>...</td>\n",
              "      <td>28314</td>\n",
              "      <td>28959</td>\n",
              "      <td>29547</td>\n",
              "      <td>2000</td>\n",
              "      <td>2019</td>\n",
              "      <td>1200</td>\n",
              "      <td>1100</td>\n",
              "      <td>1069</td>\n",
              "      <td>1000</td>\n",
              "      <td>0</td>\n",
              "    </tr>\n",
              "    <tr>\n",
              "      <th>4</th>\n",
              "      <td>50000</td>\n",
              "      <td>1</td>\n",
              "      <td>2</td>\n",
              "      <td>1</td>\n",
              "      <td>57</td>\n",
              "      <td>-1</td>\n",
              "      <td>-1</td>\n",
              "      <td>-1</td>\n",
              "      <td>-1</td>\n",
              "      <td>-1</td>\n",
              "      <td>...</td>\n",
              "      <td>20940</td>\n",
              "      <td>19146</td>\n",
              "      <td>19131</td>\n",
              "      <td>2000</td>\n",
              "      <td>36681</td>\n",
              "      <td>10000</td>\n",
              "      <td>9000</td>\n",
              "      <td>689</td>\n",
              "      <td>679</td>\n",
              "      <td>0</td>\n",
              "    </tr>\n",
              "    <tr>\n",
              "      <th>...</th>\n",
              "      <td>...</td>\n",
              "      <td>...</td>\n",
              "      <td>...</td>\n",
              "      <td>...</td>\n",
              "      <td>...</td>\n",
              "      <td>...</td>\n",
              "      <td>...</td>\n",
              "      <td>...</td>\n",
              "      <td>...</td>\n",
              "      <td>...</td>\n",
              "      <td>...</td>\n",
              "      <td>...</td>\n",
              "      <td>...</td>\n",
              "      <td>...</td>\n",
              "      <td>...</td>\n",
              "      <td>...</td>\n",
              "      <td>...</td>\n",
              "      <td>...</td>\n",
              "      <td>...</td>\n",
              "      <td>...</td>\n",
              "      <td>...</td>\n",
              "    </tr>\n",
              "    <tr>\n",
              "      <th>29995</th>\n",
              "      <td>220000</td>\n",
              "      <td>1</td>\n",
              "      <td>3</td>\n",
              "      <td>1</td>\n",
              "      <td>39</td>\n",
              "      <td>-1</td>\n",
              "      <td>-1</td>\n",
              "      <td>-1</td>\n",
              "      <td>-1</td>\n",
              "      <td>-1</td>\n",
              "      <td>...</td>\n",
              "      <td>88004</td>\n",
              "      <td>31237</td>\n",
              "      <td>15980</td>\n",
              "      <td>8500</td>\n",
              "      <td>20000</td>\n",
              "      <td>5003</td>\n",
              "      <td>3047</td>\n",
              "      <td>5000</td>\n",
              "      <td>1000</td>\n",
              "      <td>0</td>\n",
              "    </tr>\n",
              "    <tr>\n",
              "      <th>29996</th>\n",
              "      <td>150000</td>\n",
              "      <td>1</td>\n",
              "      <td>3</td>\n",
              "      <td>2</td>\n",
              "      <td>43</td>\n",
              "      <td>-1</td>\n",
              "      <td>-1</td>\n",
              "      <td>-1</td>\n",
              "      <td>-1</td>\n",
              "      <td>-1</td>\n",
              "      <td>...</td>\n",
              "      <td>8979</td>\n",
              "      <td>5190</td>\n",
              "      <td>0</td>\n",
              "      <td>1837</td>\n",
              "      <td>3526</td>\n",
              "      <td>8998</td>\n",
              "      <td>129</td>\n",
              "      <td>0</td>\n",
              "      <td>0</td>\n",
              "      <td>0</td>\n",
              "    </tr>\n",
              "    <tr>\n",
              "      <th>29997</th>\n",
              "      <td>30000</td>\n",
              "      <td>1</td>\n",
              "      <td>2</td>\n",
              "      <td>2</td>\n",
              "      <td>37</td>\n",
              "      <td>4</td>\n",
              "      <td>3</td>\n",
              "      <td>2</td>\n",
              "      <td>-1</td>\n",
              "      <td>-1</td>\n",
              "      <td>...</td>\n",
              "      <td>20878</td>\n",
              "      <td>20582</td>\n",
              "      <td>19357</td>\n",
              "      <td>0</td>\n",
              "      <td>0</td>\n",
              "      <td>22000</td>\n",
              "      <td>4200</td>\n",
              "      <td>2000</td>\n",
              "      <td>3100</td>\n",
              "      <td>1</td>\n",
              "    </tr>\n",
              "    <tr>\n",
              "      <th>29998</th>\n",
              "      <td>80000</td>\n",
              "      <td>1</td>\n",
              "      <td>3</td>\n",
              "      <td>1</td>\n",
              "      <td>41</td>\n",
              "      <td>1</td>\n",
              "      <td>-1</td>\n",
              "      <td>-1</td>\n",
              "      <td>-1</td>\n",
              "      <td>-1</td>\n",
              "      <td>...</td>\n",
              "      <td>52774</td>\n",
              "      <td>11855</td>\n",
              "      <td>48944</td>\n",
              "      <td>85900</td>\n",
              "      <td>3409</td>\n",
              "      <td>1178</td>\n",
              "      <td>1926</td>\n",
              "      <td>52964</td>\n",
              "      <td>1804</td>\n",
              "      <td>1</td>\n",
              "    </tr>\n",
              "    <tr>\n",
              "      <th>29999</th>\n",
              "      <td>50000</td>\n",
              "      <td>1</td>\n",
              "      <td>2</td>\n",
              "      <td>1</td>\n",
              "      <td>46</td>\n",
              "      <td>-1</td>\n",
              "      <td>-1</td>\n",
              "      <td>-1</td>\n",
              "      <td>-1</td>\n",
              "      <td>-1</td>\n",
              "      <td>...</td>\n",
              "      <td>36535</td>\n",
              "      <td>32428</td>\n",
              "      <td>15313</td>\n",
              "      <td>2078</td>\n",
              "      <td>1800</td>\n",
              "      <td>1430</td>\n",
              "      <td>1000</td>\n",
              "      <td>1000</td>\n",
              "      <td>1000</td>\n",
              "      <td>1</td>\n",
              "    </tr>\n",
              "  </tbody>\n",
              "</table>\n",
              "<p>30000 rows × 24 columns</p>\n",
              "</div>\n",
              "      <button class=\"colab-df-convert\" onclick=\"convertToInteractive('df-6e470b88-1da6-4641-9550-5b955306b9aa')\"\n",
              "              title=\"Convert this dataframe to an interactive table.\"\n",
              "              style=\"display:none;\">\n",
              "        \n",
              "  <svg xmlns=\"http://www.w3.org/2000/svg\" height=\"24px\"viewBox=\"0 0 24 24\"\n",
              "       width=\"24px\">\n",
              "    <path d=\"M0 0h24v24H0V0z\" fill=\"none\"/>\n",
              "    <path d=\"M18.56 5.44l.94 2.06.94-2.06 2.06-.94-2.06-.94-.94-2.06-.94 2.06-2.06.94zm-11 1L8.5 8.5l.94-2.06 2.06-.94-2.06-.94L8.5 2.5l-.94 2.06-2.06.94zm10 10l.94 2.06.94-2.06 2.06-.94-2.06-.94-.94-2.06-.94 2.06-2.06.94z\"/><path d=\"M17.41 7.96l-1.37-1.37c-.4-.4-.92-.59-1.43-.59-.52 0-1.04.2-1.43.59L10.3 9.45l-7.72 7.72c-.78.78-.78 2.05 0 2.83L4 21.41c.39.39.9.59 1.41.59.51 0 1.02-.2 1.41-.59l7.78-7.78 2.81-2.81c.8-.78.8-2.07 0-2.86zM5.41 20L4 18.59l7.72-7.72 1.47 1.35L5.41 20z\"/>\n",
              "  </svg>\n",
              "      </button>\n",
              "      \n",
              "  <style>\n",
              "    .colab-df-container {\n",
              "      display:flex;\n",
              "      flex-wrap:wrap;\n",
              "      gap: 12px;\n",
              "    }\n",
              "\n",
              "    .colab-df-convert {\n",
              "      background-color: #E8F0FE;\n",
              "      border: none;\n",
              "      border-radius: 50%;\n",
              "      cursor: pointer;\n",
              "      display: none;\n",
              "      fill: #1967D2;\n",
              "      height: 32px;\n",
              "      padding: 0 0 0 0;\n",
              "      width: 32px;\n",
              "    }\n",
              "\n",
              "    .colab-df-convert:hover {\n",
              "      background-color: #E2EBFA;\n",
              "      box-shadow: 0px 1px 2px rgba(60, 64, 67, 0.3), 0px 1px 3px 1px rgba(60, 64, 67, 0.15);\n",
              "      fill: #174EA6;\n",
              "    }\n",
              "\n",
              "    [theme=dark] .colab-df-convert {\n",
              "      background-color: #3B4455;\n",
              "      fill: #D2E3FC;\n",
              "    }\n",
              "\n",
              "    [theme=dark] .colab-df-convert:hover {\n",
              "      background-color: #434B5C;\n",
              "      box-shadow: 0px 1px 3px 1px rgba(0, 0, 0, 0.15);\n",
              "      filter: drop-shadow(0px 1px 2px rgba(0, 0, 0, 0.3));\n",
              "      fill: #FFFFFF;\n",
              "    }\n",
              "  </style>\n",
              "\n",
              "      <script>\n",
              "        const buttonEl =\n",
              "          document.querySelector('#df-6e470b88-1da6-4641-9550-5b955306b9aa button.colab-df-convert');\n",
              "        buttonEl.style.display =\n",
              "          google.colab.kernel.accessAllowed ? 'block' : 'none';\n",
              "\n",
              "        async function convertToInteractive(key) {\n",
              "          const element = document.querySelector('#df-6e470b88-1da6-4641-9550-5b955306b9aa');\n",
              "          const dataTable =\n",
              "            await google.colab.kernel.invokeFunction('convertToInteractive',\n",
              "                                                     [key], {});\n",
              "          if (!dataTable) return;\n",
              "\n",
              "          const docLinkHtml = 'Like what you see? Visit the ' +\n",
              "            '<a target=\"_blank\" href=https://colab.research.google.com/notebooks/data_table.ipynb>data table notebook</a>'\n",
              "            + ' to learn more about interactive tables.';\n",
              "          element.innerHTML = '';\n",
              "          dataTable['output_type'] = 'display_data';\n",
              "          await google.colab.output.renderOutput(dataTable, element);\n",
              "          const docLink = document.createElement('div');\n",
              "          docLink.innerHTML = docLinkHtml;\n",
              "          element.appendChild(docLink);\n",
              "        }\n",
              "      </script>\n",
              "    </div>\n",
              "  </div>\n",
              "  "
            ]
          },
          "metadata": {},
          "execution_count": 13
        }
      ]
    },
    {
      "cell_type": "code",
      "source": [
        "df.boxplot(figsize=(30,20)) #Pandas visualization"
      ],
      "metadata": {
        "colab": {
          "base_uri": "https://localhost:8080/",
          "height": 792
        },
        "id": "pPQDySyXE7Je",
        "outputId": "631a213f-8c5f-4a82-f0b2-1f9681625828"
      },
      "execution_count": 14,
      "outputs": [
        {
          "output_type": "execute_result",
          "data": {
            "text/plain": [
              "<AxesSubplot:>"
            ]
          },
          "metadata": {},
          "execution_count": 14
        },
        {
          "output_type": "display_data",
          "data": {
            "text/plain": [
              "<Figure size 2160x1440 with 1 Axes>"
            ],
            "image/png": "[encoded data removed]"
          },
          "metadata": {
            "needs_background": "light"
          }
        }
      ]
    },
    {
      "cell_type": "code",
      "source": [
        "df.hist(figsize=(20,20)) #Pandas visualization"
      ],
      "metadata": {
        "colab": {
          "base_uri": "https://localhost:8080/",
          "height": 1000
        },
        "id": "8haw0hFG3iZz",
        "outputId": "74ad2407-f815-47d0-d005-0539518f2fff"
      },
      "execution_count": 15,
      "outputs": [
        {
          "output_type": "execute_result",
          "data": {
            "text/plain": [
              "array([[<AxesSubplot:title={'center':'LIMIT_BAL'}>,\n",
              "        <AxesSubplot:title={'center':'SEX'}>,\n",
              "        <AxesSubplot:title={'center':'EDUCATION'}>,\n",
              "        <AxesSubplot:title={'center':'MARRIAGE'}>,\n",
              "        <AxesSubplot:title={'center':'AGE'}>],\n",
              "       [<AxesSubplot:title={'center':'PAY_0'}>,\n",
              "        <AxesSubplot:title={'center':'PAY_2'}>,\n",
              "        <AxesSubplot:title={'center':'PAY_3'}>,\n",
              "        <AxesSubplot:title={'center':'PAY_4'}>,\n",
              "        <AxesSubplot:title={'center':'PAY_5'}>],\n",
              "       [<AxesSubplot:title={'center':'PAY_6'}>,\n",
              "        <AxesSubplot:title={'center':'BILL_AMT1'}>,\n",
              "        <AxesSubplot:title={'center':'BILL_AMT2'}>,\n",
              "        <AxesSubplot:title={'center':'BILL_AMT3'}>,\n",
              "        <AxesSubplot:title={'center':'BILL_AMT4'}>],\n",
              "       [<AxesSubplot:title={'center':'BILL_AMT5'}>,\n",
              "        <AxesSubplot:title={'center':'BILL_AMT6'}>,\n",
              "        <AxesSubplot:title={'center':'PAY_AMT1'}>,\n",
              "        <AxesSubplot:title={'center':'PAY_AMT2'}>,\n",
              "        <AxesSubplot:title={'center':'PAY_AMT3'}>],\n",
              "       [<AxesSubplot:title={'center':'PAY_AMT4'}>,\n",
              "        <AxesSubplot:title={'center':'PAY_AMT5'}>,\n",
              "        <AxesSubplot:title={'center':'PAY_AMT6'}>,\n",
              "        <AxesSubplot:title={'center':'default'}>, <AxesSubplot:>]],\n",
              "      dtype=object)"
            ]
          },
          "metadata": {},
          "execution_count": 15
        },
        {
          "output_type": "display_data",
          "data": {
            "text/plain": [
              "<Figure size 1440x1440 with 25 Axes>"
            ],
            "image/png": "[encoded data removed]"
          },
          "metadata": {
            "needs_background": "light"
          }
        }
      ]
    },
    {
      "cell_type": "code",
      "source": [
        "sns.heatmap(df.corr()) #Seaborn visualization"
      ],
      "metadata": {
        "colab": {
          "base_uri": "https://localhost:8080/",
          "height": 335
        },
        "id": "0wsr3Yon4-Qc",
        "outputId": "d2e13859-8424-4ab1-fb9f-3820be943823"
      },
      "execution_count": 16,
      "outputs": [
        {
          "output_type": "execute_result",
          "data": {
            "text/plain": [
              "<AxesSubplot:>"
            ]
          },
          "metadata": {},
          "execution_count": 16
        },
        {
          "output_type": "display_data",
          "data": {
            "text/plain": [
              "<Figure size 432x288 with 2 Axes>"
            ],
            "image/png": "[encoded data removed]"
          },
          "metadata": {
            "needs_background": "light"
          }
        }
      ]
    },
    {
      "cell_type": "code",
      "source": [
        "plt.scatter(df[\"default\"],df[\"BILL_AMT1\"])\n",
        "plt.scatter(df[\"default\"],df[\"PAY_AMT1\"])\n",
        "plt.title(\"Credit Card Default Analysis\")"
      ],
      "metadata": {
        "colab": {
          "base_uri": "https://localhost:8080/",
          "height": 298
        },
        "id": "rtZj5U_i5CCD",
        "outputId": "ce836578-47f5-4a86-d653-5a381d7fa4d0"
      },
      "execution_count": 17,
      "outputs": [
        {
          "output_type": "execute_result",
          "data": {
            "text/plain": [
              "Text(0.5, 1.0, 'Credit Card Default Analysis')"
            ]
          },
          "metadata": {},
          "execution_count": 17
        },
        {
          "output_type": "display_data",
          "data": {
            "text/plain": [
              "<Figure size 432x288 with 1 Axes>"
            ],
            "image/png": "[encoded data removed]"
          },
          "metadata": {
            "needs_background": "light"
          }
        }
      ]
    },
    {
      "cell_type": "code",
      "source": [
        "#Creating dummy variables\n",
        "dummy1 = pd.get_dummies(df[\"SEX\"],prefix=\"SEX\")\n",
        "dummy2 = pd.get_dummies(df[\"EDUCATION\"],prefix=\"EDUCATION\")\n",
        "dummy3 = pd.get_dummies(df[\"MARRIAGE\"],prefix=\"MARRIAGE\")\n",
        "dummy4 = pd.get_dummies(df[\"PAY_0\"],prefix=\"PAY_0\")\n",
        "dummy5 = pd.get_dummies(df[\"PAY_2\"],prefix=\"PAY_2\")\n",
        "dummy6 = pd.get_dummies(df[\"PAY_3\"],prefix=\"PAY_3\")\n",
        "dummy7 = pd.get_dummies(df[\"PAY_4\"],prefix=\"PAY_4\")\n",
        "dummy8 = pd.get_dummies(df[\"PAY_5\"],prefix=\"PAY_5\")\n",
        "dummy9 = pd.get_dummies(df[\"PAY_6\"],prefix=\"PAY_6\")\n",
        "\n",
        "\n",
        "df = df.merge(dummy1,left_index=True,right_index=True)\n",
        "df = df.merge(dummy2,left_index=True,right_index=True)\n",
        "df = df.merge(dummy3,left_index=True,right_index=True)\n",
        "df = df.merge(dummy4,left_index=True,right_index=True)\n",
        "df = df.merge(dummy5,left_index=True,right_index=True)\n",
        "df = df.merge(dummy6,left_index=True,right_index=True)\n",
        "df = df.merge(dummy7,left_index=True,right_index=True)\n",
        "df = df.merge(dummy8,left_index=True,right_index=True)\n",
        "df = df.merge(dummy9,left_index=True,right_index=True)\n",
        "\n",
        "\n",
        "df = df.drop(columns=\"SEX\", axis=1)\n",
        "df = df.drop(columns=\"EDUCATION\", axis=1)\n",
        "df = df.drop(columns=\"MARRIAGE\", axis=1)\n",
        "df = df.drop(columns=\"PAY_0\", axis=1)\n",
        "df = df.drop(columns=\"PAY_2\", axis=1)\n",
        "df = df.drop(columns=\"PAY_3\", axis=1)\n",
        "df = df.drop(columns=\"PAY_4\", axis=1)\n",
        "df = df.drop(columns=\"PAY_5\", axis=1)\n",
        "df = df.drop(columns=\"PAY_6\", axis=1)"
      ],
      "metadata": {
        "id": "WI2MqXMK5-Tt"
      },
      "execution_count": 18,
      "outputs": []
    },
    {
      "cell_type": "code",
      "source": [
        "X = df.drop(columns=\"default\")\n",
        "Y = df['default']\n",
        "\n",
        "cols_to_norm = [\"LIMIT_BAL\", \"BILL_AMT1\", \"BILL_AMT2\", \"BILL_AMT3\", \"BILL_AMT4\", \"BILL_AMT5\", \"BILL_AMT6\",\n",
        "                \"PAY_AMT1\", \"PAY_AMT2\", \"PAY_AMT3\", \"PAY_AMT4\", \"PAY_AMT5\", \"PAY_AMT6\"]\n",
        "\n",
        "#Normalizing\n",
        "for col in cols_to_norm:\n",
        "  X[col] = stats.zscore(X[col])\n",
        "\n",
        "#Split\n",
        "X_train, X_test, Y_train, Y_test = train_test_split(X,Y, random_state=22)"
      ],
      "metadata": {
        "id": "O7XsOOPf7fIr"
      },
      "execution_count": 19,
      "outputs": []
    },
    {
      "cell_type": "code",
      "source": [
        "#Logistic Regression\n",
        "model = linear_model.LogisticRegression(max_iter=1500)\n",
        "model.fit(X_train,Y_train)\n",
        "pred = model.predict(X_train)\n",
        "cm = confusion_matrix(Y_train,pred)\n",
        "cm"
      ],
      "metadata": {
        "id": "uXwu_XG7_gxo",
        "colab": {
          "base_uri": "https://localhost:8080/"
        },
        "outputId": "bc8d5ec2-1a0e-40a9-d7e3-f0f1b9580084"
      },
      "execution_count": 20,
      "outputs": [
        {
          "output_type": "execute_result",
          "data": {
            "text/plain": [
              "array([[16655,   832],\n",
              "       [ 3231,  1782]])"
            ]
          },
          "metadata": {},
          "execution_count": 20
        }
      ]
    },
    {
      "cell_type": "code",
      "source": [
        "pred = model.predict(X_test)\n",
        "cm = confusion_matrix(Y_test,pred)\n",
        "cm"
      ],
      "metadata": {
        "colab": {
          "base_uri": "https://localhost:8080/"
        },
        "id": "F3YBt2JiBjiq",
        "outputId": "988d044d-c113-4471-e6e1-41eb4be6f892"
      },
      "execution_count": 21,
      "outputs": [
        {
          "output_type": "execute_result",
          "data": {
            "text/plain": [
              "array([[5611,  266],\n",
              "       [1054,  569]])"
            ]
          },
          "metadata": {},
          "execution_count": 21
        }
      ]
    },
    {
      "cell_type": "code",
      "source": [
        "print(\"Logistic Regression accuracy is \", (cm[0,0]+cm[1,1])/sum(sum(cm)))"
      ],
      "metadata": {
        "colab": {
          "base_uri": "https://localhost:8080/"
        },
        "id": "WRVGpRPszSbU",
        "outputId": "8e73771a-1f4c-43f0-fc94-9be5298c2212"
      },
      "execution_count": 22,
      "outputs": [
        {
          "output_type": "stream",
          "name": "stdout",
          "text": [
            "Logistic Regression accuracy is  0.824\n"
          ]
        }
      ]
    },
    {
      "cell_type": "code",
      "source": [
        "plot_roc_curve(model,X_test,Y_test)"
      ],
      "metadata": {
        "colab": {
          "base_uri": "https://localhost:8080/",
          "height": 351
        },
        "id": "8zIzU_quiFbv",
        "outputId": "f458c9a3-ab1a-4357-b8a6-14263089c64d"
      },
      "execution_count": 23,
      "outputs": [
        {
          "output_type": "stream",
          "name": "stderr",
          "text": [
            "/usr/local/lib/python3.8/dist-packages/sklearn/utils/deprecation.py:87: FutureWarning: Function plot_roc_curve is deprecated; Function :func:`plot_roc_curve` is deprecated in 1.0 and will be removed in 1.2. Use one of the class methods: :meth:`sklearn.metric.RocCurveDisplay.from_predictions` or :meth:`sklearn.metric.RocCurveDisplay.from_estimator`.\n",
            "  warnings.warn(msg, category=FutureWarning)\n"
          ]
        },
        {
          "output_type": "execute_result",
          "data": {
            "text/plain": [
              "<sklearn.metrics._plot.roc_curve.RocCurveDisplay at 0x7f6549e67e50>"
            ]
          },
          "metadata": {},
          "execution_count": 23
        },
        {
          "output_type": "display_data",
          "data": {
            "text/plain": [
              "<Figure size 432x288 with 1 Axes>"
            ],
            "image/png": "[encoded data removed]"
          },
          "metadata": {
            "needs_background": "light"
          }
        }
      ]
    },
    {
      "cell_type": "code",
      "source": [
        "plot_precision_recall_curve(model,X_test,Y_test)"
      ],
      "metadata": {
        "colab": {
          "base_uri": "https://localhost:8080/",
          "height": 351
        },
        "id": "LeCw_H253HYe",
        "outputId": "3652217b-7a60-4134-c518-d3a4e2fa8a3f"
      },
      "execution_count": 24,
      "outputs": [
        {
          "output_type": "stream",
          "name": "stderr",
          "text": [
            "/usr/local/lib/python3.8/dist-packages/sklearn/utils/deprecation.py:87: FutureWarning: Function plot_precision_recall_curve is deprecated; Function `plot_precision_recall_curve` is deprecated in 1.0 and will be removed in 1.2. Use one of the class methods: PrecisionRecallDisplay.from_predictions or PrecisionRecallDisplay.from_estimator.\n",
            "  warnings.warn(msg, category=FutureWarning)\n"
          ]
        },
        {
          "output_type": "execute_result",
          "data": {
            "text/plain": [
              "<sklearn.metrics._plot.precision_recall_curve.PrecisionRecallDisplay at 0x7f654b02e9d0>"
            ]
          },
          "metadata": {},
          "execution_count": 24
        },
        {
          "output_type": "display_data",
          "data": {
            "text/plain": [
              "<Figure size 432x288 with 1 Axes>"
            ],
            "image/png": "[encoded data removed]"
          },
          "metadata": {
            "needs_background": "light"
          }
        }
      ]
    },
    {
      "cell_type": "code",
      "source": [
        "#Decision Tree\n",
        "model = tree.DecisionTreeClassifier()\n",
        "g = GridSearchCV(estimator=model, param_grid=dict(max_depth=[i for i in range(2,20)]) , cv=10)"
      ],
      "metadata": {
        "id": "UoCMuv1qB0Ua"
      },
      "execution_count": 25,
      "outputs": []
    },
    {
      "cell_type": "code",
      "source": [
        "g = g.fit(X_train,Y_train)"
      ],
      "metadata": {
        "id": "oNFg6HZGI8b3"
      },
      "execution_count": 26,
      "outputs": []
    },
    {
      "cell_type": "code",
      "source": [
        "g.best_params_"
      ],
      "metadata": {
        "colab": {
          "base_uri": "https://localhost:8080/"
        },
        "id": "sopj2p8hI9RZ",
        "outputId": "26a66003-9b3e-49bc-cdc5-da967366295c"
      },
      "execution_count": 27,
      "outputs": [
        {
          "output_type": "execute_result",
          "data": {
            "text/plain": [
              "{'max_depth': 2}"
            ]
          },
          "metadata": {},
          "execution_count": 27
        }
      ]
    },
    {
      "cell_type": "code",
      "source": [
        "#Decision Tree cont.\n",
        "model = tree.DecisionTreeClassifier(max_depth=2)\n",
        "model.fit(X_train,Y_train)\n",
        "pred = model.predict(X_train)\n",
        "cm = confusion_matrix(Y_train,pred)\n",
        "cm"
      ],
      "metadata": {
        "id": "KDmC38w0JThJ",
        "colab": {
          "base_uri": "https://localhost:8080/"
        },
        "outputId": "abd79d10-71f7-4bb1-e81c-480338aefbec"
      },
      "execution_count": 28,
      "outputs": [
        {
          "output_type": "execute_result",
          "data": {
            "text/plain": [
              "array([[16762,   725],\n",
              "       [ 3378,  1635]])"
            ]
          },
          "metadata": {},
          "execution_count": 28
        }
      ]
    },
    {
      "cell_type": "code",
      "source": [
        "pred = model.predict(X_test)\n",
        "cm = confusion_matrix(Y_test,pred)\n",
        "cm"
      ],
      "metadata": {
        "colab": {
          "base_uri": "https://localhost:8080/"
        },
        "id": "0FhHutRLClIR",
        "outputId": "08747212-ff1c-472b-db9e-cfa6ddbbf415"
      },
      "execution_count": 29,
      "outputs": [
        {
          "output_type": "execute_result",
          "data": {
            "text/plain": [
              "array([[5649,  228],\n",
              "       [1081,  542]])"
            ]
          },
          "metadata": {},
          "execution_count": 29
        }
      ]
    },
    {
      "cell_type": "code",
      "source": [
        "print(\"Decision Tree accuracy is \", (cm[0,0]+cm[1,1])/sum(sum(cm)))"
      ],
      "metadata": {
        "colab": {
          "base_uri": "https://localhost:8080/"
        },
        "id": "Os5zZJ29zcns",
        "outputId": "5bf531d2-4d4a-431d-f4cb-7a65a91ec687"
      },
      "execution_count": 30,
      "outputs": [
        {
          "output_type": "stream",
          "name": "stdout",
          "text": [
            "Decision Tree accuracy is  0.8254666666666667\n"
          ]
        }
      ]
    },
    {
      "cell_type": "code",
      "source": [
        "plot_roc_curve(model,X_test,Y_test)"
      ],
      "metadata": {
        "colab": {
          "base_uri": "https://localhost:8080/",
          "height": 351
        },
        "id": "zxZOofR40_yE",
        "outputId": "68ae2ec1-a776-49e2-db8e-a30cac2d7b39"
      },
      "execution_count": 31,
      "outputs": [
        {
          "output_type": "stream",
          "name": "stderr",
          "text": [
            "/usr/local/lib/python3.8/dist-packages/sklearn/utils/deprecation.py:87: FutureWarning: Function plot_roc_curve is deprecated; Function :func:`plot_roc_curve` is deprecated in 1.0 and will be removed in 1.2. Use one of the class methods: :meth:`sklearn.metric.RocCurveDisplay.from_predictions` or :meth:`sklearn.metric.RocCurveDisplay.from_estimator`.\n",
            "  warnings.warn(msg, category=FutureWarning)\n"
          ]
        },
        {
          "output_type": "execute_result",
          "data": {
            "text/plain": [
              "<sklearn.metrics._plot.roc_curve.RocCurveDisplay at 0x7f654b0c3760>"
            ]
          },
          "metadata": {},
          "execution_count": 31
        },
        {
          "output_type": "display_data",
          "data": {
            "text/plain": [
              "<Figure size 432x288 with 1 Axes>"
            ],
            "image/png": "[encoded data removed]"
          },
          "metadata": {
            "needs_background": "light"
          }
        }
      ]
    },
    {
      "cell_type": "code",
      "source": [
        "plot_precision_recall_curve(model,X_test,Y_test)"
      ],
      "metadata": {
        "colab": {
          "base_uri": "https://localhost:8080/",
          "height": 351
        },
        "id": "1yDv99Kz4znG",
        "outputId": "185870a1-3531-4f37-be04-a918b75b2ba5"
      },
      "execution_count": 32,
      "outputs": [
        {
          "output_type": "stream",
          "name": "stderr",
          "text": [
            "/usr/local/lib/python3.8/dist-packages/sklearn/utils/deprecation.py:87: FutureWarning: Function plot_precision_recall_curve is deprecated; Function `plot_precision_recall_curve` is deprecated in 1.0 and will be removed in 1.2. Use one of the class methods: PrecisionRecallDisplay.from_predictions or PrecisionRecallDisplay.from_estimator.\n",
            "  warnings.warn(msg, category=FutureWarning)\n"
          ]
        },
        {
          "output_type": "execute_result",
          "data": {
            "text/plain": [
              "<sklearn.metrics._plot.precision_recall_curve.PrecisionRecallDisplay at 0x7f654afa1f70>"
            ]
          },
          "metadata": {},
          "execution_count": 32
        },
        {
          "output_type": "display_data",
          "data": {
            "text/plain": [
              "<Figure size 432x288 with 1 Axes>"
            ],
            "image/png": "[encoded data removed]"
          },
          "metadata": {
            "needs_background": "light"
          }
        }
      ]
    },
    {
      "cell_type": "code",
      "source": [
        "#Random Forest\n",
        "model = ensemble.RandomForestClassifier()\n",
        "model.fit(X_train,Y_train)\n",
        "pred = model.predict(X_train)\n",
        "cm = confusion_matrix(Y_train,pred)\n",
        "cm"
      ],
      "metadata": {
        "id": "ZIhxrPGILs2g",
        "colab": {
          "base_uri": "https://localhost:8080/"
        },
        "outputId": "cc3c232b-3290-4bde-8bf1-d3be0582b600"
      },
      "execution_count": 33,
      "outputs": [
        {
          "output_type": "execute_result",
          "data": {
            "text/plain": [
              "array([[17483,     4],\n",
              "       [   13,  5000]])"
            ]
          },
          "metadata": {},
          "execution_count": 33
        }
      ]
    },
    {
      "cell_type": "code",
      "source": [
        "pred = model.predict(X_test)\n",
        "cm = confusion_matrix(Y_test,pred)\n",
        "cm"
      ],
      "metadata": {
        "colab": {
          "base_uri": "https://localhost:8080/"
        },
        "id": "ed_S00U0L4mF",
        "outputId": "edc2455e-7325-4aa8-d68d-f710907329ec"
      },
      "execution_count": 34,
      "outputs": [
        {
          "output_type": "execute_result",
          "data": {
            "text/plain": [
              "array([[5553,  324],\n",
              "       [1025,  598]])"
            ]
          },
          "metadata": {},
          "execution_count": 34
        }
      ]
    },
    {
      "cell_type": "code",
      "source": [
        "print(\"Random Forest accuracy is \", (cm[0,0]+cm[1,1])/sum(sum(cm)))"
      ],
      "metadata": {
        "colab": {
          "base_uri": "https://localhost:8080/"
        },
        "id": "-TbNOH54zfTE",
        "outputId": "2a27bf4f-1046-482b-defe-17bdb5b838a1"
      },
      "execution_count": 35,
      "outputs": [
        {
          "output_type": "stream",
          "name": "stdout",
          "text": [
            "Random Forest accuracy is  0.8201333333333334\n"
          ]
        }
      ]
    },
    {
      "cell_type": "code",
      "source": [
        "plot_roc_curve(model,X_test,Y_test)"
      ],
      "metadata": {
        "colab": {
          "base_uri": "https://localhost:8080/",
          "height": 351
        },
        "id": "KQ4eBcFG1BpT",
        "outputId": "da150533-ac16-4a7f-efd6-0b83dacb55e8"
      },
      "execution_count": 36,
      "outputs": [
        {
          "output_type": "stream",
          "name": "stderr",
          "text": [
            "/usr/local/lib/python3.8/dist-packages/sklearn/utils/deprecation.py:87: FutureWarning: Function plot_roc_curve is deprecated; Function :func:`plot_roc_curve` is deprecated in 1.0 and will be removed in 1.2. Use one of the class methods: :meth:`sklearn.metric.RocCurveDisplay.from_predictions` or :meth:`sklearn.metric.RocCurveDisplay.from_estimator`.\n",
            "  warnings.warn(msg, category=FutureWarning)\n"
          ]
        },
        {
          "output_type": "execute_result",
          "data": {
            "text/plain": [
              "<sklearn.metrics._plot.roc_curve.RocCurveDisplay at 0x7f6549d0df40>"
            ]
          },
          "metadata": {},
          "execution_count": 36
        },
        {
          "output_type": "display_data",
          "data": {
            "text/plain": [
              "<Figure size 432x288 with 1 Axes>"
            ],
            "image/png": "[encoded data removed]"
          },
          "metadata": {
            "needs_background": "light"
          }
        }
      ]
    },
    {
      "cell_type": "code",
      "source": [
        "plot_precision_recall_curve(model,X_test,Y_test)"
      ],
      "metadata": {
        "colab": {
          "base_uri": "https://localhost:8080/",
          "height": 351
        },
        "id": "xBbzSgDD5CJe",
        "outputId": "c5f6fd3b-7d51-4431-fb22-27b31e30d64b"
      },
      "execution_count": 37,
      "outputs": [
        {
          "output_type": "stream",
          "name": "stderr",
          "text": [
            "/usr/local/lib/python3.8/dist-packages/sklearn/utils/deprecation.py:87: FutureWarning: Function plot_precision_recall_curve is deprecated; Function `plot_precision_recall_curve` is deprecated in 1.0 and will be removed in 1.2. Use one of the class methods: PrecisionRecallDisplay.from_predictions or PrecisionRecallDisplay.from_estimator.\n",
            "  warnings.warn(msg, category=FutureWarning)\n"
          ]
        },
        {
          "output_type": "execute_result",
          "data": {
            "text/plain": [
              "<sklearn.metrics._plot.precision_recall_curve.PrecisionRecallDisplay at 0x7f6549bf3820>"
            ]
          },
          "metadata": {},
          "execution_count": 37
        },
        {
          "output_type": "display_data",
          "data": {
            "text/plain": [
              "<Figure size 432x288 with 1 Axes>"
            ],
            "image/png": "[encoded data removed]"
          },
          "metadata": {
            "needs_background": "light"
          }
        }
      ]
    },
    {
      "cell_type": "code",
      "source": [
        "#XGBoost\n",
        "model = ensemble.GradientBoostingClassifier()\n",
        "model.fit(X_train,Y_train)\n",
        "pred = model.predict(X_train)\n",
        "cm = confusion_matrix(Y_train,pred)\n",
        "cm"
      ],
      "metadata": {
        "id": "GSVyMcgwL8uJ",
        "colab": {
          "base_uri": "https://localhost:8080/"
        },
        "outputId": "d28cd237-0155-4009-83e6-de713d9dc692"
      },
      "execution_count": 38,
      "outputs": [
        {
          "output_type": "execute_result",
          "data": {
            "text/plain": [
              "array([[16642,   845],\n",
              "       [ 3096,  1917]])"
            ]
          },
          "metadata": {},
          "execution_count": 38
        }
      ]
    },
    {
      "cell_type": "code",
      "source": [
        "pred = model.predict(X_test)\n",
        "cm = confusion_matrix(Y_test,pred)\n",
        "cm"
      ],
      "metadata": {
        "colab": {
          "base_uri": "https://localhost:8080/"
        },
        "id": "10YU6z3Vjrn0",
        "outputId": "59e37aba-bcdb-4379-f4dd-e5982bcd3efb"
      },
      "execution_count": 39,
      "outputs": [
        {
          "output_type": "execute_result",
          "data": {
            "text/plain": [
              "array([[5607,  270],\n",
              "       [1029,  594]])"
            ]
          },
          "metadata": {},
          "execution_count": 39
        }
      ]
    },
    {
      "cell_type": "code",
      "source": [
        "print(\"XGBoost accuracy is \", (cm[0,0]+cm[1,1])/sum(sum(cm)))"
      ],
      "metadata": {
        "colab": {
          "base_uri": "https://localhost:8080/"
        },
        "id": "CYITljx0zhkg",
        "outputId": "0caef932-eb2b-41a1-c6fe-c3f1e341d484"
      },
      "execution_count": 40,
      "outputs": [
        {
          "output_type": "stream",
          "name": "stdout",
          "text": [
            "XGBoost accuracy is  0.8268\n"
          ]
        }
      ]
    },
    {
      "cell_type": "code",
      "source": [
        "plot_roc_curve(model,X_test,Y_test)"
      ],
      "metadata": {
        "colab": {
          "base_uri": "https://localhost:8080/",
          "height": 351
        },
        "id": "YNSrDz_z1DKx",
        "outputId": "3dda3672-ae8d-4657-9e33-4b746600b73a"
      },
      "execution_count": 41,
      "outputs": [
        {
          "output_type": "stream",
          "name": "stderr",
          "text": [
            "/usr/local/lib/python3.8/dist-packages/sklearn/utils/deprecation.py:87: FutureWarning: Function plot_roc_curve is deprecated; Function :func:`plot_roc_curve` is deprecated in 1.0 and will be removed in 1.2. Use one of the class methods: :meth:`sklearn.metric.RocCurveDisplay.from_predictions` or :meth:`sklearn.metric.RocCurveDisplay.from_estimator`.\n",
            "  warnings.warn(msg, category=FutureWarning)\n"
          ]
        },
        {
          "output_type": "execute_result",
          "data": {
            "text/plain": [
              "<sklearn.metrics._plot.roc_curve.RocCurveDisplay at 0x7f6549bea580>"
            ]
          },
          "metadata": {},
          "execution_count": 41
        },
        {
          "output_type": "display_data",
          "data": {
            "text/plain": [
              "<Figure size 432x288 with 1 Axes>"
            ],
            "image/png": "[encoded data removed]"
          },
          "metadata": {
            "needs_background": "light"
          }
        }
      ]
    },
    {
      "cell_type": "code",
      "source": [
        "plot_precision_recall_curve(model,X_test,Y_test)"
      ],
      "metadata": {
        "colab": {
          "base_uri": "https://localhost:8080/",
          "height": 351
        },
        "id": "5WVHZlt75HyP",
        "outputId": "982c59d5-d31d-4d42-e02b-26f2dc589abf"
      },
      "execution_count": 42,
      "outputs": [
        {
          "output_type": "stream",
          "name": "stderr",
          "text": [
            "/usr/local/lib/python3.8/dist-packages/sklearn/utils/deprecation.py:87: FutureWarning: Function plot_precision_recall_curve is deprecated; Function `plot_precision_recall_curve` is deprecated in 1.0 and will be removed in 1.2. Use one of the class methods: PrecisionRecallDisplay.from_predictions or PrecisionRecallDisplay.from_estimator.\n",
            "  warnings.warn(msg, category=FutureWarning)\n"
          ]
        },
        {
          "output_type": "execute_result",
          "data": {
            "text/plain": [
              "<sklearn.metrics._plot.precision_recall_curve.PrecisionRecallDisplay at 0x7f65e65f07f0>"
            ]
          },
          "metadata": {},
          "execution_count": 42
        },
        {
          "output_type": "display_data",
          "data": {
            "text/plain": [
              "<Figure size 432x288 with 1 Axes>"
            ],
            "image/png": "[encoded data removed]"
          },
          "metadata": {
            "needs_background": "light"
          }
        }
      ]
    },
    {
      "cell_type": "code",
      "source": [
        "#Neural Network\n",
        "model = neural_network.MLPClassifier()\n",
        "model.fit(X_train,Y_train)\n",
        "pred = model.predict(X_train)\n",
        "cm = confusion_matrix(Y_train,pred)\n",
        "cm"
      ],
      "metadata": {
        "id": "ebbEFymTkCG1",
        "colab": {
          "base_uri": "https://localhost:8080/"
        },
        "outputId": "4ac46826-37d5-4493-acba-2651669db921"
      },
      "execution_count": 43,
      "outputs": [
        {
          "output_type": "stream",
          "name": "stderr",
          "text": [
            "/usr/local/lib/python3.8/dist-packages/sklearn/neural_network/_multilayer_perceptron.py:692: ConvergenceWarning: Stochastic Optimizer: Maximum iterations (200) reached and the optimization hasn't converged yet.\n",
            "  warnings.warn(\n"
          ]
        },
        {
          "output_type": "execute_result",
          "data": {
            "text/plain": [
              "array([[16684,   803],\n",
              "       [ 2848,  2165]])"
            ]
          },
          "metadata": {},
          "execution_count": 43
        }
      ]
    },
    {
      "cell_type": "code",
      "source": [
        "pred = model.predict(X_test)\n",
        "cm = confusion_matrix(Y_test,pred)\n",
        "cm"
      ],
      "metadata": {
        "colab": {
          "base_uri": "https://localhost:8080/"
        },
        "id": "0pRRoJ938hhw",
        "outputId": "4b06f6b7-a40f-4340-de45-9fec12b3946a"
      },
      "execution_count": 45,
      "outputs": [
        {
          "output_type": "execute_result",
          "data": {
            "text/plain": [
              "array([[5536,  341],\n",
              "       [1037,  586]])"
            ]
          },
          "metadata": {},
          "execution_count": 45
        }
      ]
    },
    {
      "cell_type": "code",
      "source": [
        "print(\"Neural Network accuracy is \", (cm[0,0]+cm[1,1])/(sum(sum(cm))))"
      ],
      "metadata": {
        "colab": {
          "base_uri": "https://localhost:8080/"
        },
        "id": "aHlV-iNDzmef",
        "outputId": "84ad1143-115c-43cd-a416-fb24331cd21f"
      },
      "execution_count": 46,
      "outputs": [
        {
          "output_type": "stream",
          "name": "stdout",
          "text": [
            "Neural Network accuracy is  0.8162666666666667\n"
          ]
        }
      ]
    },
    {
      "cell_type": "code",
      "source": [
        "plot_roc_curve(model,X_test,Y_test)"
      ],
      "metadata": {
        "colab": {
          "base_uri": "https://localhost:8080/",
          "height": 351
        },
        "id": "7-TxQUnD1EMI",
        "outputId": "64c4c525-4d62-435f-b37f-c1fd02aa5799"
      },
      "execution_count": 47,
      "outputs": [
        {
          "output_type": "stream",
          "name": "stderr",
          "text": [
            "/usr/local/lib/python3.8/dist-packages/sklearn/utils/deprecation.py:87: FutureWarning: Function plot_roc_curve is deprecated; Function :func:`plot_roc_curve` is deprecated in 1.0 and will be removed in 1.2. Use one of the class methods: :meth:`sklearn.metric.RocCurveDisplay.from_predictions` or :meth:`sklearn.metric.RocCurveDisplay.from_estimator`.\n",
            "  warnings.warn(msg, category=FutureWarning)\n"
          ]
        },
        {
          "output_type": "execute_result",
          "data": {
            "text/plain": [
              "<sklearn.metrics._plot.roc_curve.RocCurveDisplay at 0x7f6549cda250>"
            ]
          },
          "metadata": {},
          "execution_count": 47
        },
        {
          "output_type": "display_data",
          "data": {
            "text/plain": [
              "<Figure size 432x288 with 1 Axes>"
            ],
            "image/png": "[encoded data removed]"
          },
          "metadata": {
            "needs_background": "light"
          }
        }
      ]
    },
    {
      "cell_type": "code",
      "source": [
        "plot_precision_recall_curve(model,X_test,Y_test)"
      ],
      "metadata": {
        "colab": {
          "base_uri": "https://localhost:8080/",
          "height": 351
        },
        "id": "83sDh-nN5bS5",
        "outputId": "8005cb73-11a6-477b-9b73-97543b2e8115"
      },
      "execution_count": 48,
      "outputs": [
        {
          "output_type": "stream",
          "name": "stderr",
          "text": [
            "/usr/local/lib/python3.8/dist-packages/sklearn/utils/deprecation.py:87: FutureWarning: Function plot_precision_recall_curve is deprecated; Function `plot_precision_recall_curve` is deprecated in 1.0 and will be removed in 1.2. Use one of the class methods: PrecisionRecallDisplay.from_predictions or PrecisionRecallDisplay.from_estimator.\n",
            "  warnings.warn(msg, category=FutureWarning)\n"
          ]
        },
        {
          "output_type": "execute_result",
          "data": {
            "text/plain": [
              "<sklearn.metrics._plot.precision_recall_curve.PrecisionRecallDisplay at 0x7f6549c6bdc0>"
            ]
          },
          "metadata": {},
          "execution_count": 48
        },
        {
          "output_type": "display_data",
          "data": {
            "text/plain": [
              "<Figure size 432x288 with 1 Axes>"
            ],
            "image/png": "[encoded data removed]"
          },
          "metadata": {
            "needs_background": "light"
          }
        }
      ]
    },
    {
      "cell_type": "code",
      "source": [
        "model = Sequential()"
      ],
      "metadata": {
        "id": "jCTUcHtT9heQ"
      },
      "execution_count": 49,
      "outputs": []
    },
    {
      "cell_type": "code",
      "source": [
        "model.add(Dense(20,input_dim=len(X_train.columns),activation=\"relu\"))\n",
        "model.add(Dropout(0.1))"
      ],
      "metadata": {
        "id": "9OmgMG0L9kQu"
      },
      "execution_count": 50,
      "outputs": []
    },
    {
      "cell_type": "code",
      "source": [
        "model.add(Dense(20,activation=\"relu\"))\n",
        "model.add(Dropout(0.1))"
      ],
      "metadata": {
        "id": "Y7kNVTBq9l4j"
      },
      "execution_count": 51,
      "outputs": []
    },
    {
      "cell_type": "code",
      "source": [
        "model.add(Dense(1,activation=\"sigmoid\"))"
      ],
      "metadata": {
        "id": "8IiC1yFp9nL1"
      },
      "execution_count": 52,
      "outputs": []
    },
    {
      "cell_type": "code",
      "source": [
        "model.summary()"
      ],
      "metadata": {
        "colab": {
          "base_uri": "https://localhost:8080/"
        },
        "id": "DxzHZvoq9oZC",
        "outputId": "bcca57db-6704-440c-beec-128bbee09497"
      },
      "execution_count": 53,
      "outputs": [
        {
          "output_type": "stream",
          "name": "stdout",
          "text": [
            "Model: \"sequential\"\n",
            "_________________________________________________________________\n",
            " Layer (type)                Output Shape              Param #   \n",
            "=================================================================\n",
            " dense (Dense)               (None, 20)                1520      \n",
            "                                                                 \n",
            " dropout (Dropout)           (None, 20)                0         \n",
            "                                                                 \n",
            " dense_1 (Dense)             (None, 20)                420       \n",
            "                                                                 \n",
            " dropout_1 (Dropout)         (None, 20)                0         \n",
            "                                                                 \n",
            " dense_2 (Dense)             (None, 1)                 21        \n",
            "                                                                 \n",
            "=================================================================\n",
            "Total params: 1,961\n",
            "Trainable params: 1,961\n",
            "Non-trainable params: 0\n",
            "_________________________________________________________________\n"
          ]
        }
      ]
    },
    {
      "cell_type": "code",
      "source": [
        "model.compile(loss=\"binary_crossentropy\",optimizer=\"adam\",metrics=[\"accuracy\"])"
      ],
      "metadata": {
        "id": "2qEOE8__99yY"
      },
      "execution_count": 54,
      "outputs": []
    },
    {
      "cell_type": "code",
      "source": [
        "h = model.fit(X_train,Y_train,batch_size=10,epochs=200)"
      ],
      "metadata": {
        "colab": {
          "base_uri": "https://localhost:8080/"
        },
        "id": "Ob3sg3WR9-HO",
        "outputId": "735460e8-aba2-457a-8a35-05c4c9db7394"
      },
      "execution_count": 55,
      "outputs": [
        {
          "output_type": "stream",
          "name": "stdout",
          "text": [
            "Epoch 1/200\n",
            "2250/2250 [==============================] - 6s 2ms/step - loss: 0.4773 - accuracy: 0.7978\n",
            "Epoch 2/200\n",
            "2250/2250 [==============================] - 6s 3ms/step - loss: 0.4474 - accuracy: 0.8144\n",
            "Epoch 3/200\n",
            "2250/2250 [==============================] - 6s 3ms/step - loss: 0.4440 - accuracy: 0.8178\n",
            "Epoch 4/200\n",
            "2250/2250 [==============================] - 5s 2ms/step - loss: 0.4412 - accuracy: 0.8189\n",
            "Epoch 5/200\n",
            "2250/2250 [==============================] - 7s 3ms/step - loss: 0.4394 - accuracy: 0.8179\n",
            "Epoch 6/200\n",
            "2250/2250 [==============================] - 5s 2ms/step - loss: 0.4382 - accuracy: 0.8184\n",
            "Epoch 7/200\n",
            "2250/2250 [==============================] - 6s 3ms/step - loss: 0.4372 - accuracy: 0.8195\n",
            "Epoch 8/200\n",
            "2250/2250 [==============================] - 6s 3ms/step - loss: 0.4373 - accuracy: 0.8193\n",
            "Epoch 9/200\n",
            "2250/2250 [==============================] - 6s 2ms/step - loss: 0.4362 - accuracy: 0.8185\n",
            "Epoch 10/200\n",
            "2250/2250 [==============================] - 7s 3ms/step - loss: 0.4358 - accuracy: 0.8196\n",
            "Epoch 11/200\n",
            "2250/2250 [==============================] - 6s 2ms/step - loss: 0.4365 - accuracy: 0.8182\n",
            "Epoch 12/200\n",
            "2250/2250 [==============================] - 6s 3ms/step - loss: 0.4349 - accuracy: 0.8198\n",
            "Epoch 13/200\n",
            "2250/2250 [==============================] - 6s 3ms/step - loss: 0.4342 - accuracy: 0.8203\n",
            "Epoch 14/200\n",
            "2250/2250 [==============================] - 5s 2ms/step - loss: 0.4342 - accuracy: 0.8194\n",
            "Epoch 15/200\n",
            "2250/2250 [==============================] - 7s 3ms/step - loss: 0.4338 - accuracy: 0.8203\n",
            "Epoch 16/200\n",
            "2250/2250 [==============================] - 5s 2ms/step - loss: 0.4336 - accuracy: 0.8203\n",
            "Epoch 17/200\n",
            "2250/2250 [==============================] - 6s 3ms/step - loss: 0.4329 - accuracy: 0.8190\n",
            "Epoch 18/200\n",
            "2250/2250 [==============================] - 6s 3ms/step - loss: 0.4322 - accuracy: 0.8201\n",
            "Epoch 19/200\n",
            "2250/2250 [==============================] - 7s 3ms/step - loss: 0.4310 - accuracy: 0.8220\n",
            "Epoch 20/200\n",
            "2250/2250 [==============================] - 7s 3ms/step - loss: 0.4318 - accuracy: 0.8201\n",
            "Epoch 21/200\n",
            "2250/2250 [==============================] - 5s 2ms/step - loss: 0.4313 - accuracy: 0.8199\n",
            "Epoch 22/200\n",
            "2250/2250 [==============================] - 6s 3ms/step - loss: 0.4327 - accuracy: 0.8204\n",
            "Epoch 23/200\n",
            "2250/2250 [==============================] - 6s 2ms/step - loss: 0.4315 - accuracy: 0.8204\n",
            "Epoch 24/200\n",
            "2250/2250 [==============================] - 5s 2ms/step - loss: 0.4298 - accuracy: 0.8214\n",
            "Epoch 25/200\n",
            "2250/2250 [==============================] - 7s 3ms/step - loss: 0.4317 - accuracy: 0.8217\n",
            "Epoch 26/200\n",
            "2250/2250 [==============================] - 5s 2ms/step - loss: 0.4305 - accuracy: 0.8216\n",
            "Epoch 27/200\n",
            "2250/2250 [==============================] - 6s 3ms/step - loss: 0.4306 - accuracy: 0.8212\n",
            "Epoch 28/200\n",
            "2250/2250 [==============================] - 6s 3ms/step - loss: 0.4303 - accuracy: 0.8208\n",
            "Epoch 29/200\n",
            "2250/2250 [==============================] - 5s 2ms/step - loss: 0.4303 - accuracy: 0.8218\n",
            "Epoch 30/200\n",
            "2250/2250 [==============================] - 7s 3ms/step - loss: 0.4297 - accuracy: 0.8211\n",
            "Epoch 31/200\n",
            "2250/2250 [==============================] - 5s 2ms/step - loss: 0.4292 - accuracy: 0.8204\n",
            "Epoch 32/200\n",
            "2250/2250 [==============================] - 6s 3ms/step - loss: 0.4305 - accuracy: 0.8197\n",
            "Epoch 33/200\n",
            "2250/2250 [==============================] - 6s 3ms/step - loss: 0.4304 - accuracy: 0.8216\n",
            "Epoch 34/200\n",
            "2250/2250 [==============================] - 5s 2ms/step - loss: 0.4289 - accuracy: 0.8208\n",
            "Epoch 35/200\n",
            "2250/2250 [==============================] - 7s 3ms/step - loss: 0.4283 - accuracy: 0.8211\n",
            "Epoch 36/200\n",
            "2250/2250 [==============================] - 5s 2ms/step - loss: 0.4295 - accuracy: 0.8191\n",
            "Epoch 37/200\n",
            "2250/2250 [==============================] - 6s 3ms/step - loss: 0.4291 - accuracy: 0.8215\n",
            "Epoch 38/200\n",
            "2250/2250 [==============================] - 6s 3ms/step - loss: 0.4285 - accuracy: 0.8224\n",
            "Epoch 39/200\n",
            "2250/2250 [==============================] - 5s 2ms/step - loss: 0.4284 - accuracy: 0.8225\n",
            "Epoch 40/200\n",
            "2250/2250 [==============================] - 7s 3ms/step - loss: 0.4269 - accuracy: 0.8225\n",
            "Epoch 41/200\n",
            "2250/2250 [==============================] - 5s 2ms/step - loss: 0.4266 - accuracy: 0.8227\n",
            "Epoch 42/200\n",
            "2250/2250 [==============================] - 6s 3ms/step - loss: 0.4276 - accuracy: 0.8226\n",
            "Epoch 43/200\n",
            "2250/2250 [==============================] - 6s 3ms/step - loss: 0.4269 - accuracy: 0.8222\n",
            "Epoch 44/200\n",
            "2250/2250 [==============================] - 5s 2ms/step - loss: 0.4278 - accuracy: 0.8213\n",
            "Epoch 45/200\n",
            "2250/2250 [==============================] - 7s 3ms/step - loss: 0.4278 - accuracy: 0.8222\n",
            "Epoch 46/200\n",
            "2250/2250 [==============================] - 7s 3ms/step - loss: 0.4268 - accuracy: 0.8225\n",
            "Epoch 47/200\n",
            "2250/2250 [==============================] - 6s 3ms/step - loss: 0.4269 - accuracy: 0.8216\n",
            "Epoch 48/200\n",
            "2250/2250 [==============================] - 5s 2ms/step - loss: 0.4273 - accuracy: 0.8224\n",
            "Epoch 49/200\n",
            "2250/2250 [==============================] - 5s 2ms/step - loss: 0.4262 - accuracy: 0.8206\n",
            "Epoch 50/200\n",
            "2250/2250 [==============================] - 7s 3ms/step - loss: 0.4263 - accuracy: 0.8233\n",
            "Epoch 51/200\n",
            "2250/2250 [==============================] - 5s 2ms/step - loss: 0.4262 - accuracy: 0.8237\n",
            "Epoch 52/200\n",
            "2250/2250 [==============================] - 5s 2ms/step - loss: 0.4261 - accuracy: 0.8224\n",
            "Epoch 53/200\n",
            "2250/2250 [==============================] - 6s 3ms/step - loss: 0.4228 - accuracy: 0.8239\n",
            "Epoch 54/200\n",
            "2250/2250 [==============================] - 5s 2ms/step - loss: 0.4254 - accuracy: 0.8229\n",
            "Epoch 55/200\n",
            "2250/2250 [==============================] - 7s 3ms/step - loss: 0.4254 - accuracy: 0.8231\n",
            "Epoch 56/200\n",
            "2250/2250 [==============================] - 5s 2ms/step - loss: 0.4250 - accuracy: 0.8223\n",
            "Epoch 57/200\n",
            "2250/2250 [==============================] - 5s 2ms/step - loss: 0.4260 - accuracy: 0.8220\n",
            "Epoch 58/200\n",
            "2250/2250 [==============================] - 7s 3ms/step - loss: 0.4249 - accuracy: 0.8239\n",
            "Epoch 59/200\n",
            "2250/2250 [==============================] - 5s 2ms/step - loss: 0.4240 - accuracy: 0.8240\n",
            "Epoch 60/200\n",
            "2250/2250 [==============================] - 6s 3ms/step - loss: 0.4247 - accuracy: 0.8228\n",
            "Epoch 61/200\n",
            "2250/2250 [==============================] - 6s 2ms/step - loss: 0.4253 - accuracy: 0.8249\n",
            "Epoch 62/200\n",
            "2250/2250 [==============================] - 5s 2ms/step - loss: 0.4232 - accuracy: 0.8238\n",
            "Epoch 63/200\n",
            "2250/2250 [==============================] - 7s 3ms/step - loss: 0.4247 - accuracy: 0.8238\n",
            "Epoch 64/200\n",
            "2250/2250 [==============================] - 5s 2ms/step - loss: 0.4236 - accuracy: 0.8243\n",
            "Epoch 65/200\n",
            "2250/2250 [==============================] - 6s 3ms/step - loss: 0.4238 - accuracy: 0.8217\n",
            "Epoch 66/200\n",
            "2250/2250 [==============================] - 6s 3ms/step - loss: 0.4217 - accuracy: 0.8239\n",
            "Epoch 67/200\n",
            "2250/2250 [==============================] - 5s 2ms/step - loss: 0.4239 - accuracy: 0.8232\n",
            "Epoch 68/200\n",
            "2250/2250 [==============================] - 7s 3ms/step - loss: 0.4221 - accuracy: 0.8241\n",
            "Epoch 69/200\n",
            "2250/2250 [==============================] - 5s 2ms/step - loss: 0.4238 - accuracy: 0.8226\n",
            "Epoch 70/200\n",
            "2250/2250 [==============================] - 5s 2ms/step - loss: 0.4235 - accuracy: 0.8220\n",
            "Epoch 71/200\n",
            "2250/2250 [==============================] - 6s 3ms/step - loss: 0.4236 - accuracy: 0.8247\n",
            "Epoch 72/200\n",
            "2250/2250 [==============================] - 5s 2ms/step - loss: 0.4231 - accuracy: 0.8250\n",
            "Epoch 73/200\n",
            "2250/2250 [==============================] - 7s 3ms/step - loss: 0.4235 - accuracy: 0.8241\n",
            "Epoch 74/200\n",
            "2250/2250 [==============================] - 7s 3ms/step - loss: 0.4231 - accuracy: 0.8236\n",
            "Epoch 75/200\n",
            "2250/2250 [==============================] - 5s 2ms/step - loss: 0.4231 - accuracy: 0.8240\n",
            "Epoch 76/200\n",
            "2250/2250 [==============================] - 7s 3ms/step - loss: 0.4249 - accuracy: 0.8231\n",
            "Epoch 77/200\n",
            "2250/2250 [==============================] - 5s 2ms/step - loss: 0.4231 - accuracy: 0.8239\n",
            "Epoch 78/200\n",
            "2250/2250 [==============================] - 6s 3ms/step - loss: 0.4236 - accuracy: 0.8233\n",
            "Epoch 79/200\n",
            "2250/2250 [==============================] - 6s 3ms/step - loss: 0.4223 - accuracy: 0.8251\n",
            "Epoch 80/200\n",
            "2250/2250 [==============================] - 5s 2ms/step - loss: 0.4224 - accuracy: 0.8245\n",
            "Epoch 81/200\n",
            "2250/2250 [==============================] - 7s 3ms/step - loss: 0.4224 - accuracy: 0.8248\n",
            "Epoch 82/200\n",
            "2250/2250 [==============================] - 5s 2ms/step - loss: 0.4227 - accuracy: 0.8238\n",
            "Epoch 83/200\n",
            "2250/2250 [==============================] - 5s 2ms/step - loss: 0.4214 - accuracy: 0.8253\n",
            "Epoch 84/200\n",
            "2250/2250 [==============================] - 6s 3ms/step - loss: 0.4207 - accuracy: 0.8256\n",
            "Epoch 85/200\n",
            "2250/2250 [==============================] - 5s 2ms/step - loss: 0.4234 - accuracy: 0.8241\n",
            "Epoch 86/200\n",
            "2250/2250 [==============================] - 6s 3ms/step - loss: 0.4215 - accuracy: 0.8255\n",
            "Epoch 87/200\n",
            "2250/2250 [==============================] - 6s 2ms/step - loss: 0.4211 - accuracy: 0.8228\n",
            "Epoch 88/200\n",
            "2250/2250 [==============================] - 5s 2ms/step - loss: 0.4222 - accuracy: 0.8239\n",
            "Epoch 89/200\n",
            "2250/2250 [==============================] - 7s 3ms/step - loss: 0.4212 - accuracy: 0.8248\n",
            "Epoch 90/200\n",
            "2250/2250 [==============================] - 5s 2ms/step - loss: 0.4209 - accuracy: 0.8242\n",
            "Epoch 91/200\n",
            "2250/2250 [==============================] - 6s 3ms/step - loss: 0.4203 - accuracy: 0.8265\n",
            "Epoch 92/200\n",
            "2250/2250 [==============================] - 6s 3ms/step - loss: 0.4200 - accuracy: 0.8243\n",
            "Epoch 93/200\n",
            "2250/2250 [==============================] - 5s 2ms/step - loss: 0.4198 - accuracy: 0.8250\n",
            "Epoch 94/200\n",
            "2250/2250 [==============================] - 7s 3ms/step - loss: 0.4208 - accuracy: 0.8248\n",
            "Epoch 95/200\n",
            "2250/2250 [==============================] - 5s 2ms/step - loss: 0.4210 - accuracy: 0.8246\n",
            "Epoch 96/200\n",
            "2250/2250 [==============================] - 5s 2ms/step - loss: 0.4218 - accuracy: 0.8235\n",
            "Epoch 97/200\n",
            "2250/2250 [==============================] - 6s 3ms/step - loss: 0.4216 - accuracy: 0.8249\n",
            "Epoch 98/200\n",
            "2250/2250 [==============================] - 5s 2ms/step - loss: 0.4209 - accuracy: 0.8245\n",
            "Epoch 99/200\n",
            "2250/2250 [==============================] - 6s 3ms/step - loss: 0.4209 - accuracy: 0.8228\n",
            "Epoch 100/200\n",
            "2250/2250 [==============================] - 5s 2ms/step - loss: 0.4206 - accuracy: 0.8244\n",
            "Epoch 101/200\n",
            "2250/2250 [==============================] - 7s 3ms/step - loss: 0.4202 - accuracy: 0.8257\n",
            "Epoch 102/200\n",
            "2250/2250 [==============================] - 7s 3ms/step - loss: 0.4206 - accuracy: 0.8251\n",
            "Epoch 103/200\n",
            "2250/2250 [==============================] - 5s 2ms/step - loss: 0.4200 - accuracy: 0.8256\n",
            "Epoch 104/200\n",
            "2250/2250 [==============================] - 6s 3ms/step - loss: 0.4196 - accuracy: 0.8252\n",
            "Epoch 105/200\n",
            "2250/2250 [==============================] - 6s 2ms/step - loss: 0.4203 - accuracy: 0.8261\n",
            "Epoch 106/200\n",
            "2250/2250 [==============================] - 5s 2ms/step - loss: 0.4194 - accuracy: 0.8259\n",
            "Epoch 107/200\n",
            "2250/2250 [==============================] - 7s 3ms/step - loss: 0.4202 - accuracy: 0.8251\n",
            "Epoch 108/200\n",
            "2250/2250 [==============================] - 5s 2ms/step - loss: 0.4211 - accuracy: 0.8236\n",
            "Epoch 109/200\n",
            "2250/2250 [==============================] - 6s 3ms/step - loss: 0.4199 - accuracy: 0.8256\n",
            "Epoch 110/200\n",
            "2250/2250 [==============================] - 6s 3ms/step - loss: 0.4199 - accuracy: 0.8256\n",
            "Epoch 111/200\n",
            "2250/2250 [==============================] - 5s 2ms/step - loss: 0.4193 - accuracy: 0.8264\n",
            "Epoch 112/200\n",
            "2250/2250 [==============================] - 7s 3ms/step - loss: 0.4200 - accuracy: 0.8253\n",
            "Epoch 113/200\n",
            "2250/2250 [==============================] - 5s 2ms/step - loss: 0.4189 - accuracy: 0.8250\n",
            "Epoch 114/200\n",
            "2250/2250 [==============================] - 6s 3ms/step - loss: 0.4204 - accuracy: 0.8241\n",
            "Epoch 115/200\n",
            "2250/2250 [==============================] - 6s 3ms/step - loss: 0.4197 - accuracy: 0.8245\n",
            "Epoch 116/200\n",
            "2250/2250 [==============================] - 5s 2ms/step - loss: 0.4195 - accuracy: 0.8248\n",
            "Epoch 117/200\n",
            "2250/2250 [==============================] - 7s 3ms/step - loss: 0.4212 - accuracy: 0.8242\n",
            "Epoch 118/200\n",
            "2250/2250 [==============================] - 5s 2ms/step - loss: 0.4204 - accuracy: 0.8252\n",
            "Epoch 119/200\n",
            "2250/2250 [==============================] - 5s 2ms/step - loss: 0.4183 - accuracy: 0.8252\n",
            "Epoch 120/200\n",
            "2250/2250 [==============================] - 7s 3ms/step - loss: 0.4213 - accuracy: 0.8255\n",
            "Epoch 121/200\n",
            "2250/2250 [==============================] - 5s 2ms/step - loss: 0.4200 - accuracy: 0.8268\n",
            "Epoch 122/200\n",
            "2250/2250 [==============================] - 6s 3ms/step - loss: 0.4195 - accuracy: 0.8254\n",
            "Epoch 123/200\n",
            "2250/2250 [==============================] - 6s 3ms/step - loss: 0.4196 - accuracy: 0.8252\n",
            "Epoch 124/200\n",
            "2250/2250 [==============================] - 5s 2ms/step - loss: 0.4173 - accuracy: 0.8248\n",
            "Epoch 125/200\n",
            "2250/2250 [==============================] - 7s 3ms/step - loss: 0.4206 - accuracy: 0.8244\n",
            "Epoch 126/200\n",
            "2250/2250 [==============================] - 5s 2ms/step - loss: 0.4184 - accuracy: 0.8252\n",
            "Epoch 127/200\n",
            "2250/2250 [==============================] - 6s 3ms/step - loss: 0.4177 - accuracy: 0.8257\n",
            "Epoch 128/200\n",
            "2250/2250 [==============================] - 8s 3ms/step - loss: 0.4192 - accuracy: 0.8250\n",
            "Epoch 129/200\n",
            "2250/2250 [==============================] - 5s 2ms/step - loss: 0.4200 - accuracy: 0.8261\n",
            "Epoch 130/200\n",
            "2250/2250 [==============================] - 7s 3ms/step - loss: 0.4196 - accuracy: 0.8245\n",
            "Epoch 131/200\n",
            "2250/2250 [==============================] - 5s 2ms/step - loss: 0.4178 - accuracy: 0.8257\n",
            "Epoch 132/200\n",
            "2250/2250 [==============================] - 6s 2ms/step - loss: 0.4189 - accuracy: 0.8277\n",
            "Epoch 133/200\n",
            "2250/2250 [==============================] - 6s 3ms/step - loss: 0.4189 - accuracy: 0.8267\n",
            "Epoch 134/200\n",
            "2250/2250 [==============================] - 5s 2ms/step - loss: 0.4189 - accuracy: 0.8263\n",
            "Epoch 135/200\n",
            "2250/2250 [==============================] - 7s 3ms/step - loss: 0.4176 - accuracy: 0.8255\n",
            "Epoch 136/200\n",
            "2250/2250 [==============================] - 5s 2ms/step - loss: 0.4181 - accuracy: 0.8262\n",
            "Epoch 137/200\n",
            "2250/2250 [==============================] - 5s 2ms/step - loss: 0.4179 - accuracy: 0.8267\n",
            "Epoch 138/200\n",
            "2250/2250 [==============================] - 7s 3ms/step - loss: 0.4194 - accuracy: 0.8246\n",
            "Epoch 139/200\n",
            "2250/2250 [==============================] - 5s 2ms/step - loss: 0.4173 - accuracy: 0.8267\n",
            "Epoch 140/200\n",
            "2250/2250 [==============================] - 7s 3ms/step - loss: 0.4186 - accuracy: 0.8259\n",
            "Epoch 141/200\n",
            "2250/2250 [==============================] - 6s 2ms/step - loss: 0.4191 - accuracy: 0.8243\n",
            "Epoch 142/200\n",
            "2250/2250 [==============================] - 5s 2ms/step - loss: 0.4176 - accuracy: 0.8263\n",
            "Epoch 143/200\n",
            "2250/2250 [==============================] - 7s 3ms/step - loss: 0.4190 - accuracy: 0.8251\n",
            "Epoch 144/200\n",
            "2250/2250 [==============================] - 5s 2ms/step - loss: 0.4177 - accuracy: 0.8262\n",
            "Epoch 145/200\n",
            "2250/2250 [==============================] - 7s 3ms/step - loss: 0.4180 - accuracy: 0.8269\n",
            "Epoch 146/200\n",
            "2250/2250 [==============================] - 6s 3ms/step - loss: 0.4184 - accuracy: 0.8260\n",
            "Epoch 147/200\n",
            "2250/2250 [==============================] - 6s 3ms/step - loss: 0.4187 - accuracy: 0.8245\n",
            "Epoch 148/200\n",
            "2250/2250 [==============================] - 7s 3ms/step - loss: 0.4175 - accuracy: 0.8252\n",
            "Epoch 149/200\n",
            "2250/2250 [==============================] - 6s 3ms/step - loss: 0.4175 - accuracy: 0.8262\n",
            "Epoch 150/200\n",
            "2250/2250 [==============================] - 7s 3ms/step - loss: 0.4188 - accuracy: 0.8243\n",
            "Epoch 151/200\n",
            "2250/2250 [==============================] - 5s 2ms/step - loss: 0.4171 - accuracy: 0.8253\n",
            "Epoch 152/200\n",
            "2250/2250 [==============================] - 6s 3ms/step - loss: 0.4176 - accuracy: 0.8256\n",
            "Epoch 153/200\n",
            "2250/2250 [==============================] - 6s 3ms/step - loss: 0.4160 - accuracy: 0.8260\n",
            "Epoch 154/200\n",
            "2250/2250 [==============================] - 6s 3ms/step - loss: 0.4184 - accuracy: 0.8264\n",
            "Epoch 155/200\n",
            "2250/2250 [==============================] - 8s 3ms/step - loss: 0.4176 - accuracy: 0.8281\n",
            "Epoch 156/200\n",
            "2250/2250 [==============================] - 5s 2ms/step - loss: 0.4180 - accuracy: 0.8256\n",
            "Epoch 157/200\n",
            "2250/2250 [==============================] - 6s 2ms/step - loss: 0.4171 - accuracy: 0.8265\n",
            "Epoch 158/200\n",
            "2250/2250 [==============================] - 7s 3ms/step - loss: 0.4163 - accuracy: 0.8269\n",
            "Epoch 159/200\n",
            "2250/2250 [==============================] - 5s 2ms/step - loss: 0.4186 - accuracy: 0.8260\n",
            "Epoch 160/200\n",
            "2250/2250 [==============================] - 7s 3ms/step - loss: 0.4177 - accuracy: 0.8267\n",
            "Epoch 161/200\n",
            "2250/2250 [==============================] - 6s 2ms/step - loss: 0.4173 - accuracy: 0.8273\n",
            "Epoch 162/200\n",
            "2250/2250 [==============================] - 5s 2ms/step - loss: 0.4180 - accuracy: 0.8260\n",
            "Epoch 163/200\n",
            "2250/2250 [==============================] - 7s 3ms/step - loss: 0.4194 - accuracy: 0.8262\n",
            "Epoch 164/200\n",
            "2250/2250 [==============================] - 5s 2ms/step - loss: 0.4185 - accuracy: 0.8265\n",
            "Epoch 165/200\n",
            "2250/2250 [==============================] - 6s 3ms/step - loss: 0.4174 - accuracy: 0.8260\n",
            "Epoch 166/200\n",
            "2250/2250 [==============================] - 6s 3ms/step - loss: 0.4168 - accuracy: 0.8270\n",
            "Epoch 167/200\n",
            "2250/2250 [==============================] - 6s 2ms/step - loss: 0.4167 - accuracy: 0.8271\n",
            "Epoch 168/200\n",
            "2250/2250 [==============================] - 7s 3ms/step - loss: 0.4194 - accuracy: 0.8266\n",
            "Epoch 169/200\n",
            "2250/2250 [==============================] - 6s 3ms/step - loss: 0.4181 - accuracy: 0.8254\n",
            "Epoch 170/200\n",
            "2250/2250 [==============================] - 7s 3ms/step - loss: 0.4173 - accuracy: 0.8270\n",
            "Epoch 171/200\n",
            "2250/2250 [==============================] - 6s 3ms/step - loss: 0.4192 - accuracy: 0.8254\n",
            "Epoch 172/200\n",
            "2250/2250 [==============================] - 6s 3ms/step - loss: 0.4170 - accuracy: 0.8265\n",
            "Epoch 173/200\n",
            "2250/2250 [==============================] - 7s 3ms/step - loss: 0.4169 - accuracy: 0.8252\n",
            "Epoch 174/200\n",
            "2250/2250 [==============================] - 5s 2ms/step - loss: 0.4157 - accuracy: 0.8264\n",
            "Epoch 175/200\n",
            "2250/2250 [==============================] - 7s 3ms/step - loss: 0.4164 - accuracy: 0.8261\n",
            "Epoch 176/200\n",
            "2250/2250 [==============================] - 5s 2ms/step - loss: 0.4171 - accuracy: 0.8250\n",
            "Epoch 177/200\n",
            "2250/2250 [==============================] - 5s 2ms/step - loss: 0.4159 - accuracy: 0.8264\n",
            "Epoch 178/200\n",
            "2250/2250 [==============================] - 7s 3ms/step - loss: 0.4174 - accuracy: 0.8266\n",
            "Epoch 179/200\n",
            "2250/2250 [==============================] - 5s 2ms/step - loss: 0.4164 - accuracy: 0.8255\n",
            "Epoch 180/200\n",
            "2250/2250 [==============================] - 6s 3ms/step - loss: 0.4184 - accuracy: 0.8260\n",
            "Epoch 181/200\n",
            "2250/2250 [==============================] - 8s 3ms/step - loss: 0.4170 - accuracy: 0.8258\n",
            "Epoch 182/200\n",
            "2250/2250 [==============================] - 5s 2ms/step - loss: 0.4165 - accuracy: 0.8264\n",
            "Epoch 183/200\n",
            "2250/2250 [==============================] - 7s 3ms/step - loss: 0.4181 - accuracy: 0.8246\n",
            "Epoch 184/200\n",
            "2250/2250 [==============================] - 5s 2ms/step - loss: 0.4172 - accuracy: 0.8272\n",
            "Epoch 185/200\n",
            "2250/2250 [==============================] - 6s 3ms/step - loss: 0.4165 - accuracy: 0.8261\n",
            "Epoch 186/200\n",
            "2250/2250 [==============================] - 6s 3ms/step - loss: 0.4153 - accuracy: 0.8272\n",
            "Epoch 187/200\n",
            "2250/2250 [==============================] - 6s 2ms/step - loss: 0.4165 - accuracy: 0.8270\n",
            "Epoch 188/200\n",
            "2250/2250 [==============================] - 7s 3ms/step - loss: 0.4172 - accuracy: 0.8256\n",
            "Epoch 189/200\n",
            "2250/2250 [==============================] - 5s 2ms/step - loss: 0.4168 - accuracy: 0.8269\n",
            "Epoch 190/200\n",
            "2250/2250 [==============================] - 6s 3ms/step - loss: 0.4160 - accuracy: 0.8256\n",
            "Epoch 191/200\n",
            "2250/2250 [==============================] - 6s 3ms/step - loss: 0.4168 - accuracy: 0.8270\n",
            "Epoch 192/200\n",
            "2250/2250 [==============================] - 5s 2ms/step - loss: 0.4173 - accuracy: 0.8266\n",
            "Epoch 193/200\n",
            "2250/2250 [==============================] - 7s 3ms/step - loss: 0.4152 - accuracy: 0.8269\n",
            "Epoch 194/200\n",
            "2250/2250 [==============================] - 5s 2ms/step - loss: 0.4182 - accuracy: 0.8258\n",
            "Epoch 195/200\n",
            "2250/2250 [==============================] - 6s 3ms/step - loss: 0.4162 - accuracy: 0.8264\n",
            "Epoch 196/200\n",
            "2250/2250 [==============================] - 6s 3ms/step - loss: 0.4159 - accuracy: 0.8268\n",
            "Epoch 197/200\n",
            "2250/2250 [==============================] - 5s 2ms/step - loss: 0.4173 - accuracy: 0.8268\n",
            "Epoch 198/200\n",
            "2250/2250 [==============================] - 7s 3ms/step - loss: 0.4175 - accuracy: 0.8254\n",
            "Epoch 199/200\n",
            "2250/2250 [==============================] - 5s 2ms/step - loss: 0.4166 - accuracy: 0.8268\n",
            "Epoch 200/200\n",
            "2250/2250 [==============================] - 7s 3ms/step - loss: 0.4176 - accuracy: 0.8263\n"
          ]
        }
      ]
    },
    {
      "cell_type": "code",
      "source": [
        "plt.plot(h.history[\"loss\"])"
      ],
      "metadata": {
        "colab": {
          "base_uri": "https://localhost:8080/",
          "height": 285
        },
        "id": "Da9cMS8Y9_eM",
        "outputId": "b8d88f63-0781-44c6-c9e6-9beb18065102"
      },
      "execution_count": 56,
      "outputs": [
        {
          "output_type": "execute_result",
          "data": {
            "text/plain": [
              "[<matplotlib.lines.Line2D at 0x7f6541302a00>]"
            ]
          },
          "metadata": {},
          "execution_count": 56
        },
        {
          "output_type": "display_data",
          "data": {
            "text/plain": [
              "<Figure size 432x288 with 1 Axes>"
            ],
            "image/png": "[encoded data removed]"
          },
          "metadata": {
            "needs_background": "light"
          }
        }
      ]
    },
    {
      "cell_type": "code",
      "source": [
        "pred = model.predict(X_test)"
      ],
      "metadata": {
        "colab": {
          "base_uri": "https://localhost:8080/"
        },
        "id": "UmLia4jBKs-y",
        "outputId": "fc7320cf-98a4-4f19-ba19-b0e9f48791b2"
      },
      "execution_count": 57,
      "outputs": [
        {
          "output_type": "stream",
          "name": "stdout",
          "text": [
            "235/235 [==============================] - 0s 2ms/step\n"
          ]
        }
      ]
    },
    {
      "cell_type": "code",
      "source": [
        "pred"
      ],
      "metadata": {
        "colab": {
          "base_uri": "https://localhost:8080/"
        },
        "id": "OJYin8BeKuub",
        "outputId": "4b9ea24f-10fe-4012-d283-a5d61edae1fd"
      },
      "execution_count": 58,
      "outputs": [
        {
          "output_type": "execute_result",
          "data": {
            "text/plain": [
              "array([[0.06483187],\n",
              "       [0.15724306],\n",
              "       [0.10307527],\n",
              "       ...,\n",
              "       [0.11039419],\n",
              "       [0.23667262],\n",
              "       [0.13549854]], dtype=float32)"
            ]
          },
          "metadata": {},
          "execution_count": 58
        }
      ]
    },
    {
      "cell_type": "code",
      "source": [
        "pred = np.where(pred>=0.5,1,0)"
      ],
      "metadata": {
        "id": "qmGG4li3UNlP"
      },
      "execution_count": 59,
      "outputs": []
    },
    {
      "cell_type": "code",
      "source": [
        "cm = confusion_matrix(Y_test,pred)\n",
        "cm"
      ],
      "metadata": {
        "id": "XhjV_pVVK1bU",
        "colab": {
          "base_uri": "https://localhost:8080/"
        },
        "outputId": "7d48a4e0-2d45-404f-be88-07e0b227fcd1"
      },
      "execution_count": 60,
      "outputs": [
        {
          "output_type": "execute_result",
          "data": {
            "text/plain": [
              "array([[5610,  267],\n",
              "       [1079,  544]])"
            ]
          },
          "metadata": {},
          "execution_count": 60
        }
      ]
    },
    {
      "cell_type": "code",
      "source": [
        "print(\"accuracy is \", (cm[0,0]+cm[1,1])/(sum(sum(cm))))"
      ],
      "metadata": {
        "colab": {
          "base_uri": "https://localhost:8080/"
        },
        "id": "uNfTj6vzK3Qj",
        "outputId": "872d3e0a-148e-4bfb-d7ba-730e3ca4f6d4"
      },
      "execution_count": 61,
      "outputs": [
        {
          "output_type": "stream",
          "name": "stdout",
          "text": [
            "accuracy is  0.8205333333333333\n"
          ]
        }
      ]
    },
    {
      "cell_type": "code",
      "source": [
        "model.evaluate(X_test,Y_test)"
      ],
      "metadata": {
        "id": "zu4mr83vN2dY",
        "colab": {
          "base_uri": "https://localhost:8080/"
        },
        "outputId": "6eae8195-4b81-4d7c-d31d-fd51592d4597"
      },
      "execution_count": 62,
      "outputs": [
        {
          "output_type": "stream",
          "name": "stdout",
          "text": [
            "235/235 [==============================] - 1s 2ms/step - loss: 0.4350 - accuracy: 0.8205\n"
          ]
        },
        {
          "output_type": "execute_result",
          "data": {
            "text/plain": [
              "[0.43504512310028076, 0.8205333352088928]"
            ]
          },
          "metadata": {},
          "execution_count": 62
        }
      ]
    }
  ]
}